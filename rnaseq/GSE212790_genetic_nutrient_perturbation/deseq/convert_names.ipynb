{
 "cells": [
  {
   "cell_type": "code",
   "execution_count": 1,
   "id": "17f74684",
   "metadata": {},
   "outputs": [
    {
     "name": "stdout",
     "output_type": "stream",
     "text": [
      "E:\\projects\\ouyang_analysis\\yeyun_rnaseq_2022_04_14\\SWAP_wt_sd_1_1_WT_noPi_1_1\n"
     ]
    }
   ],
   "source": [
    "import os \n",
    "import sys \n",
    "import pandas as pd \n",
    "\n",
    "__path__ = os.getcwd()\n",
    "print(__path__)"
   ]
  },
  {
   "cell_type": "markdown",
   "id": "5181a677",
   "metadata": {},
   "source": [
    "## Import gene dictionary"
   ]
  },
  {
   "cell_type": "code",
   "execution_count": 2,
   "id": "1f2387cc",
   "metadata": {},
   "outputs": [],
   "source": [
    "# rename genes\n",
    "gene_dict_table = pd.read_csv(\n",
    "    os.path.join(__path__, 'yeast_orf_dict.csv'), \n",
    "    sep=',',\n",
    "    header=None) \n",
    "gene_dict_table[1] = gene_dict_table[1].fillna(gene_dict_table[0])\n",
    "\n",
    "gene_dict = {}\n",
    "info_dict = {}\n",
    "for i, r in gene_dict_table.iterrows():\n",
    "    gene_dict[r[0]] = r[1]\n",
    "    info_dict[r[0]] = r[3]"
   ]
  },
  {
   "cell_type": "markdown",
   "id": "3b0df767",
   "metadata": {},
   "source": [
    "## Annotated DESeq results"
   ]
  },
  {
   "cell_type": "code",
   "execution_count": 3,
   "id": "a05cfee4",
   "metadata": {},
   "outputs": [],
   "source": [
    "deseq_dir = 'results'\n",
    "deseq_out = 'results_annotated'\n",
    "\n",
    "#Get file names\n",
    "file_list = []\n",
    "for subdir, dirs, files in os.walk(os.path.join(__path__, deseq_dir)):\n",
    "    for f in files:\n",
    "        if f.endswith('.tsv'):\n",
    "            file_list.append(f)\n",
    "        else:\n",
    "            pass\n",
    "        \n",
    "#Read in files\n",
    "for f in file_list:\n",
    "    df = pd.read_csv(\n",
    "        os.path.join(__path__, deseq_dir, f), \n",
    "        sep='\\t', \n",
    "        index_col=0) \n",
    "    df['common_name'] = df.index.to_series().replace(gene_dict)\n",
    "    df['description'] = df.index.to_series().replace(info_dict)\n",
    "    \n",
    "    df.to_csv(\n",
    "        os.path.join(__path__, deseq_out, f),\n",
    "        sep=\"\\t\")"
   ]
  },
  {
   "cell_type": "code",
   "execution_count": null,
   "id": "323daac5",
   "metadata": {},
   "outputs": [],
   "source": []
  }
 ],
 "metadata": {
  "kernelspec": {
   "display_name": "Python 3 (ipykernel)",
   "language": "python",
   "name": "python3"
  },
  "language_info": {
   "codemirror_mode": {
    "name": "ipython",
    "version": 3
   },
   "file_extension": ".py",
   "mimetype": "text/x-python",
   "name": "python",
   "nbconvert_exporter": "python",
   "pygments_lexer": "ipython3",
   "version": "3.8.10"
  }
 },
 "nbformat": 4,
 "nbformat_minor": 5
}
