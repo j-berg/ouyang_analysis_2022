{
 "cells": [
  {
   "cell_type": "code",
   "execution_count": 4,
   "metadata": {},
   "outputs": [],
   "source": [
    "import os \n",
    "import re \n",
    "import csv\n",
    "import pandas as pd \n",
    "\n",
    "gtf_type_column = 2\n",
    "gtf_annotation_column = 8\n",
    "search_type = 'transcript'\n",
    "parse_type = 'rrna'\n",
    "\n",
    "def generate_bed(\n",
    "        gtf_file):\n",
    "    \"\"\"Generate a BED file of rRNA sequences for depletion from genome-aligned\n",
    "    BAM file.\n",
    "    \"\"\"\n",
    "\n",
    "    # Set up BED generation command\n",
    "    gtf = pd.read_csv(\n",
    "        str(gtf_file),\n",
    "        sep = '\\t',\n",
    "        header = None,\n",
    "        comment = '#',\n",
    "        low_memory = False)\n",
    "\n",
    "    # Remove records that map to rRNA\n",
    "    gtf_rrna = gtf[gtf[gtf_annotation_column].str.contains(\n",
    "        parse_type, flags=re.IGNORECASE\n",
    "        )]\n",
    "    gtf_rrna = gtf_rrna.loc[gtf_rrna[gtf_type_column] == search_type]\n",
    "    gtf_rrna = gtf_rrna[[0,3,4]]\n",
    "\n",
    "    bed_file = gtf_file[:-4] + '_rrna.bed'\n",
    "\n",
    "    gtf_rrna.to_csv(\n",
    "        str(bed_file),\n",
    "        sep = '\\t',\n",
    "        header = None,\n",
    "        index = False,\n",
    "        quoting = csv.QUOTE_NONE)"
   ]
  },
  {
   "cell_type": "code",
   "execution_count": 5,
   "metadata": {},
   "outputs": [],
   "source": [
    "gtf_file = \"C:\\\\Users\\\\jorda\\\\Desktop\\\\alignments_marked\\\\Saccharomyces_cerevisiae.R64-1-1.100.gtf\"\n",
    "generate_bed(gtf_file)"
   ]
  },
  {
   "cell_type": "code",
   "execution_count": 29,
   "metadata": {},
   "outputs": [
    {
     "name": "stdout",
     "output_type": "stream",
     "text": [
      "['RDN18-2', 'RDN5-1', 'RDN5-6', 'RDN5-2', 'ITS2-2', 'ITS2-1', 'ETS2-1', 'RDN5-5', 'RDN37-2', 'ITS1-1', 'Q0158', 'Q0020', 'ITS1-2', 'RDN58-2', 'ETS2-2', 'RDN18-1', 'RDN25-2', 'RDN25-1', 'RDN5-3', 'RDN58-1', 'RDN5-4', 'ETS1-2', 'RDN37-1', 'ETS1-1']\n"
     ]
    }
   ],
   "source": [
    "gtf = pd.read_csv(\n",
    "        str(gtf_file),\n",
    "        sep = '\\t',\n",
    "        header = None,\n",
    "        comment = '#',\n",
    "        low_memory = False)\n",
    "\n",
    "# Remove records that map to rRNA\n",
    "gtf_rrna = gtf[gtf[gtf_annotation_column].str.contains(\n",
    "    parse_type, flags=re.IGNORECASE\n",
    "    )]\n",
    "print(list(set(gtf_rrna[8].str.split('gene_id \"').str[1].str.split('\";').str[0].tolist())))"
   ]
  },
  {
   "cell_type": "code",
   "execution_count": null,
   "metadata": {},
   "outputs": [],
   "source": []
  }
 ],
 "metadata": {
  "kernelspec": {
   "display_name": "Python 3",
   "language": "python",
   "name": "python3"
  },
  "language_info": {
   "codemirror_mode": {
    "name": "ipython",
    "version": 3
   },
   "file_extension": ".py",
   "mimetype": "text/x-python",
   "name": "python",
   "nbconvert_exporter": "python",
   "pygments_lexer": "ipython3",
   "version": "3.9.1"
  }
 },
 "nbformat": 4,
 "nbformat_minor": 4
}
