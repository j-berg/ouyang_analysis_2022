{
 "cells": [
  {
   "cell_type": "code",
   "execution_count": 1,
   "metadata": {},
   "outputs": [
    {
     "name": "stdout",
     "output_type": "stream",
     "text": [
      "C:\\Users\\jorda\\Desktop\\projects\\collaborations\\yeyun_rnaseq_2021_02_04\n"
     ]
    }
   ],
   "source": [
    "import os \n",
    "import sys \n",
    "import pandas as pd \n",
    "import numpy as np \n",
    "import math \n",
    "from sklearn import preprocessing\n",
    "import matplotlib\n",
    "import matplotlib.pyplot as plt\n",
    "import seaborn as sns\n",
    "\n",
    "%matplotlib inline\n",
    "sns.set(font='arial')\n",
    "jakes_cmap = sns.diverging_palette(212, 61, s=99, l=77, sep=1, n=16, center='dark') #Custom aesthetics\n",
    "\n",
    "__path__ = os.getcwd()\n",
    "print(__path__)"
   ]
  },
  {
   "cell_type": "code",
   "execution_count": 2,
   "metadata": {},
   "outputs": [],
   "source": [
    "rrna_list = [\n",
    "    'RDN18-2', \n",
    "    'RDN5-1', \n",
    "    'RDN5-6', \n",
    "    'RDN5-2', \n",
    "    'ITS2-2', \n",
    "    'ITS2-1', \n",
    "    'ETS2-1', \n",
    "    'RDN5-5', \n",
    "    'RDN37-2', \n",
    "    'ITS1-1', \n",
    "    'Q0158', \n",
    "    'Q0020', \n",
    "    'ITS1-2', \n",
    "    'RDN58-2', \n",
    "    'ETS2-2', \n",
    "    'RDN18-1', \n",
    "    'RDN25-2', \n",
    "    'RDN25-1', \n",
    "    'RDN5-3', \n",
    "    'RDN58-1', \n",
    "    'RDN5-4', \n",
    "    'ETS1-2', \n",
    "    'RDN37-1', \n",
    "    'ETS1-1'\n",
    "]"
   ]
  },
  {
   "cell_type": "markdown",
   "metadata": {},
   "source": [
    "## Make compiled counts table"
   ]
  },
  {
   "cell_type": "code",
   "execution_count": 3,
   "metadata": {},
   "outputs": [],
   "source": [
    "count_dir = '_data'\n",
    "\n",
    "#Get file names\n",
    "file_list = []\n",
    "for subdir, dirs, files in os.walk(os.path.join(__path__, count_dir)):\n",
    "    for f in files:\n",
    "        if f.endswith('.tsv'):\n",
    "            file_list.append(os.path.join(__path__, count_dir, f))\n",
    "        else:\n",
    "            pass\n",
    "\n",
    "#Read in first file                \n",
    "counts = pd.read_csv(\n",
    "    str(file_list[0]), \n",
    "    sep='\\t', \n",
    "    comment='_', \n",
    "    index_col=0) \n",
    "counts.index.name = None\n",
    "counts.columns = [file_list[0].split(os.path.sep)[-1].split(\"_\")[0]]\n",
    "\n",
    "#Read in remaining files\n",
    "for f in file_list[1:]:\n",
    "    df_pull = pd.read_csv(\n",
    "        str(f), \n",
    "        sep='\\t', \n",
    "        comment='_', \n",
    "        index_col=0) \n",
    "    df_pull.index.name = None\n",
    "    df_pull.columns = [f.split(os.path.sep)[-1].split(\"_\")[0]]\n",
    "    \n",
    "    counts = pd.concat(\n",
    "        [counts, df_pull[df_pull.columns.tolist()[0]]], \n",
    "        axis=1)\n",
    "    del df_pull\n",
    "    \n",
    "counts.to_csv(\n",
    "    os.path.join(__path__, 'output_tables', 'counts_compiled.txt'),\n",
    "    sep=\"\\t\")"
   ]
  },
  {
   "cell_type": "markdown",
   "metadata": {},
   "source": [
    "## Make metadata for DESeq analysis"
   ]
  },
  {
   "cell_type": "code",
   "execution_count": 4,
   "metadata": {},
   "outputs": [],
   "source": [
    "metadata = pd.read_csv(\n",
    "    os.path.join(__path__, 'yeyun_18607R_metadata.txt'), \n",
    "    sep='\\t') \n",
    "metadata = metadata[['ID', 'Sample Name']]\n",
    "metadata.index = metadata['ID']\n",
    "metadata.index.name = None\n",
    "metadata['Condition'] = metadata['Sample Name'].str.split(\"_\").str[0]\n",
    "metadata.to_csv(\n",
    "    os.path.join(__path__, 'deseq_metadata.txt'),\n",
    "    sep=\"\\t\")"
   ]
  },
  {
   "cell_type": "markdown",
   "metadata": {},
   "source": [
    "## Prep gene dictionary"
   ]
  },
  {
   "cell_type": "code",
   "execution_count": 5,
   "metadata": {},
   "outputs": [],
   "source": [
    "# rename genes\n",
    "gene_dict_table = pd.read_csv(\n",
    "    os.path.join(__path__, 'yeast_orf_dict.csv'), \n",
    "    sep=',',\n",
    "    header=None) \n",
    "gene_dict_table[1] = gene_dict_table[1].fillna(gene_dict_table[0])\n",
    "\n",
    "gene_dict = {}\n",
    "info_dict = {}\n",
    "for i, r in gene_dict_table.iterrows():\n",
    "    gene_dict[r[0]] = r[1]\n",
    "    info_dict[r[0]] = r[3]"
   ]
  },
  {
   "cell_type": "markdown",
   "metadata": {},
   "source": [
    "## Run DESeq2 script"
   ]
  },
  {
   "cell_type": "code",
   "execution_count": 6,
   "metadata": {},
   "outputs": [],
   "source": [
    "###"
   ]
  },
  {
   "cell_type": "markdown",
   "metadata": {},
   "source": [
    "## Add annotations to DESeq output"
   ]
  },
  {
   "cell_type": "code",
   "execution_count": 8,
   "metadata": {},
   "outputs": [
    {
     "ename": "KeyboardInterrupt",
     "evalue": "",
     "output_type": "error",
     "traceback": [
      "\u001b[1;31m---------------------------------------------------------------------------\u001b[0m",
      "\u001b[1;31mKeyboardInterrupt\u001b[0m                         Traceback (most recent call last)",
      "\u001b[1;32m~\\AppData\\Local\\Temp/ipykernel_24028/2082096136.py\u001b[0m in \u001b[0;36m<module>\u001b[1;34m\u001b[0m\n\u001b[0;32m     17\u001b[0m         \u001b[0msep\u001b[0m\u001b[1;33m=\u001b[0m\u001b[1;34m'\\t'\u001b[0m\u001b[1;33m,\u001b[0m\u001b[1;33m\u001b[0m\u001b[1;33m\u001b[0m\u001b[0m\n\u001b[0;32m     18\u001b[0m         index_col=0) \n\u001b[1;32m---> 19\u001b[1;33m     \u001b[0mdf\u001b[0m\u001b[1;33m[\u001b[0m\u001b[1;34m'common_name'\u001b[0m\u001b[1;33m]\u001b[0m \u001b[1;33m=\u001b[0m \u001b[0mdf\u001b[0m\u001b[1;33m.\u001b[0m\u001b[0mindex\u001b[0m\u001b[1;33m.\u001b[0m\u001b[0mto_series\u001b[0m\u001b[1;33m(\u001b[0m\u001b[1;33m)\u001b[0m\u001b[1;33m.\u001b[0m\u001b[0mreplace\u001b[0m\u001b[1;33m(\u001b[0m\u001b[0mgene_dict\u001b[0m\u001b[1;33m)\u001b[0m\u001b[1;33m\u001b[0m\u001b[1;33m\u001b[0m\u001b[0m\n\u001b[0m\u001b[0;32m     20\u001b[0m     \u001b[0mdf\u001b[0m\u001b[1;33m[\u001b[0m\u001b[1;34m'description'\u001b[0m\u001b[1;33m]\u001b[0m \u001b[1;33m=\u001b[0m \u001b[0mdf\u001b[0m\u001b[1;33m.\u001b[0m\u001b[0mindex\u001b[0m\u001b[1;33m.\u001b[0m\u001b[0mto_series\u001b[0m\u001b[1;33m(\u001b[0m\u001b[1;33m)\u001b[0m\u001b[1;33m.\u001b[0m\u001b[0mreplace\u001b[0m\u001b[1;33m(\u001b[0m\u001b[0minfo_dict\u001b[0m\u001b[1;33m)\u001b[0m\u001b[1;33m\u001b[0m\u001b[1;33m\u001b[0m\u001b[0m\n\u001b[0;32m     21\u001b[0m \u001b[1;33m\u001b[0m\u001b[0m\n",
      "\u001b[1;32m~\\miniconda3\\lib\\site-packages\\pandas\\core\\series.py\u001b[0m in \u001b[0;36mreplace\u001b[1;34m(self, to_replace, value, inplace, limit, regex, method)\u001b[0m\n\u001b[0;32m   4955\u001b[0m         \u001b[0mmethod\u001b[0m\u001b[1;33m:\u001b[0m \u001b[0mstr\u001b[0m \u001b[1;33m|\u001b[0m \u001b[0mlib\u001b[0m\u001b[1;33m.\u001b[0m\u001b[0mNoDefault\u001b[0m \u001b[1;33m=\u001b[0m \u001b[0mlib\u001b[0m\u001b[1;33m.\u001b[0m\u001b[0mno_default\u001b[0m\u001b[1;33m,\u001b[0m\u001b[1;33m\u001b[0m\u001b[1;33m\u001b[0m\u001b[0m\n\u001b[0;32m   4956\u001b[0m     ):\n\u001b[1;32m-> 4957\u001b[1;33m         return super().replace(\n\u001b[0m\u001b[0;32m   4958\u001b[0m             \u001b[0mto_replace\u001b[0m\u001b[1;33m=\u001b[0m\u001b[0mto_replace\u001b[0m\u001b[1;33m,\u001b[0m\u001b[1;33m\u001b[0m\u001b[1;33m\u001b[0m\u001b[0m\n\u001b[0;32m   4959\u001b[0m             \u001b[0mvalue\u001b[0m\u001b[1;33m=\u001b[0m\u001b[0mvalue\u001b[0m\u001b[1;33m,\u001b[0m\u001b[1;33m\u001b[0m\u001b[1;33m\u001b[0m\u001b[0m\n",
      "\u001b[1;32m~\\miniconda3\\lib\\site-packages\\pandas\\core\\generic.py\u001b[0m in \u001b[0;36mreplace\u001b[1;34m(self, to_replace, value, inplace, limit, regex, method)\u001b[0m\n\u001b[0;32m   6657\u001b[0m                 \u001b[0mto_replace\u001b[0m\u001b[1;33m,\u001b[0m \u001b[0mvalue\u001b[0m \u001b[1;33m=\u001b[0m \u001b[0mkeys\u001b[0m\u001b[1;33m,\u001b[0m \u001b[0mvalues\u001b[0m\u001b[1;33m\u001b[0m\u001b[1;33m\u001b[0m\u001b[0m\n\u001b[0;32m   6658\u001b[0m \u001b[1;33m\u001b[0m\u001b[0m\n\u001b[1;32m-> 6659\u001b[1;33m             return self.replace(\n\u001b[0m\u001b[0;32m   6660\u001b[0m                 \u001b[0mto_replace\u001b[0m\u001b[1;33m,\u001b[0m \u001b[0mvalue\u001b[0m\u001b[1;33m,\u001b[0m \u001b[0minplace\u001b[0m\u001b[1;33m=\u001b[0m\u001b[0minplace\u001b[0m\u001b[1;33m,\u001b[0m \u001b[0mlimit\u001b[0m\u001b[1;33m=\u001b[0m\u001b[0mlimit\u001b[0m\u001b[1;33m,\u001b[0m \u001b[0mregex\u001b[0m\u001b[1;33m=\u001b[0m\u001b[0mregex\u001b[0m\u001b[1;33m\u001b[0m\u001b[1;33m\u001b[0m\u001b[0m\n\u001b[0;32m   6661\u001b[0m             )\n",
      "\u001b[1;32m~\\miniconda3\\lib\\site-packages\\pandas\\core\\series.py\u001b[0m in \u001b[0;36mreplace\u001b[1;34m(self, to_replace, value, inplace, limit, regex, method)\u001b[0m\n\u001b[0;32m   4955\u001b[0m         \u001b[0mmethod\u001b[0m\u001b[1;33m:\u001b[0m \u001b[0mstr\u001b[0m \u001b[1;33m|\u001b[0m \u001b[0mlib\u001b[0m\u001b[1;33m.\u001b[0m\u001b[0mNoDefault\u001b[0m \u001b[1;33m=\u001b[0m \u001b[0mlib\u001b[0m\u001b[1;33m.\u001b[0m\u001b[0mno_default\u001b[0m\u001b[1;33m,\u001b[0m\u001b[1;33m\u001b[0m\u001b[1;33m\u001b[0m\u001b[0m\n\u001b[0;32m   4956\u001b[0m     ):\n\u001b[1;32m-> 4957\u001b[1;33m         return super().replace(\n\u001b[0m\u001b[0;32m   4958\u001b[0m             \u001b[0mto_replace\u001b[0m\u001b[1;33m=\u001b[0m\u001b[0mto_replace\u001b[0m\u001b[1;33m,\u001b[0m\u001b[1;33m\u001b[0m\u001b[1;33m\u001b[0m\u001b[0m\n\u001b[0;32m   4959\u001b[0m             \u001b[0mvalue\u001b[0m\u001b[1;33m=\u001b[0m\u001b[0mvalue\u001b[0m\u001b[1;33m,\u001b[0m\u001b[1;33m\u001b[0m\u001b[1;33m\u001b[0m\u001b[0m\n",
      "\u001b[1;32m~\\miniconda3\\lib\\site-packages\\pandas\\core\\generic.py\u001b[0m in \u001b[0;36mreplace\u001b[1;34m(self, to_replace, value, inplace, limit, regex, method)\u001b[0m\n\u001b[0;32m   6706\u001b[0m                         \u001b[1;34mf\"Expecting {len(to_replace)} got {len(value)} \"\u001b[0m\u001b[1;33m\u001b[0m\u001b[1;33m\u001b[0m\u001b[0m\n\u001b[0;32m   6707\u001b[0m                     )\n\u001b[1;32m-> 6708\u001b[1;33m                 new_data = self._mgr.replace_list(\n\u001b[0m\u001b[0;32m   6709\u001b[0m                     \u001b[0msrc_list\u001b[0m\u001b[1;33m=\u001b[0m\u001b[0mto_replace\u001b[0m\u001b[1;33m,\u001b[0m\u001b[1;33m\u001b[0m\u001b[1;33m\u001b[0m\u001b[0m\n\u001b[0;32m   6710\u001b[0m                     \u001b[0mdest_list\u001b[0m\u001b[1;33m=\u001b[0m\u001b[0mvalue\u001b[0m\u001b[1;33m,\u001b[0m\u001b[1;33m\u001b[0m\u001b[1;33m\u001b[0m\u001b[0m\n",
      "\u001b[1;32m~\\miniconda3\\lib\\site-packages\\pandas\\core\\internals\\managers.py\u001b[0m in \u001b[0;36mreplace_list\u001b[1;34m(self, src_list, dest_list, inplace, regex)\u001b[0m\n\u001b[0;32m    456\u001b[0m         \u001b[0minplace\u001b[0m \u001b[1;33m=\u001b[0m \u001b[0mvalidate_bool_kwarg\u001b[0m\u001b[1;33m(\u001b[0m\u001b[0minplace\u001b[0m\u001b[1;33m,\u001b[0m \u001b[1;34m\"inplace\"\u001b[0m\u001b[1;33m)\u001b[0m\u001b[1;33m\u001b[0m\u001b[1;33m\u001b[0m\u001b[0m\n\u001b[0;32m    457\u001b[0m \u001b[1;33m\u001b[0m\u001b[0m\n\u001b[1;32m--> 458\u001b[1;33m         bm = self.apply(\n\u001b[0m\u001b[0;32m    459\u001b[0m             \u001b[1;34m\"replace_list\"\u001b[0m\u001b[1;33m,\u001b[0m\u001b[1;33m\u001b[0m\u001b[1;33m\u001b[0m\u001b[0m\n\u001b[0;32m    460\u001b[0m             \u001b[0msrc_list\u001b[0m\u001b[1;33m=\u001b[0m\u001b[0msrc_list\u001b[0m\u001b[1;33m,\u001b[0m\u001b[1;33m\u001b[0m\u001b[1;33m\u001b[0m\u001b[0m\n",
      "\u001b[1;32m~\\miniconda3\\lib\\site-packages\\pandas\\core\\internals\\managers.py\u001b[0m in \u001b[0;36mapply\u001b[1;34m(self, f, align_keys, ignore_failures, **kwargs)\u001b[0m\n\u001b[0;32m    302\u001b[0m                     \u001b[0mapplied\u001b[0m \u001b[1;33m=\u001b[0m \u001b[0mb\u001b[0m\u001b[1;33m.\u001b[0m\u001b[0mapply\u001b[0m\u001b[1;33m(\u001b[0m\u001b[0mf\u001b[0m\u001b[1;33m,\u001b[0m \u001b[1;33m**\u001b[0m\u001b[0mkwargs\u001b[0m\u001b[1;33m)\u001b[0m\u001b[1;33m\u001b[0m\u001b[1;33m\u001b[0m\u001b[0m\n\u001b[0;32m    303\u001b[0m                 \u001b[1;32melse\u001b[0m\u001b[1;33m:\u001b[0m\u001b[1;33m\u001b[0m\u001b[1;33m\u001b[0m\u001b[0m\n\u001b[1;32m--> 304\u001b[1;33m                     \u001b[0mapplied\u001b[0m \u001b[1;33m=\u001b[0m \u001b[0mgetattr\u001b[0m\u001b[1;33m(\u001b[0m\u001b[0mb\u001b[0m\u001b[1;33m,\u001b[0m \u001b[0mf\u001b[0m\u001b[1;33m)\u001b[0m\u001b[1;33m(\u001b[0m\u001b[1;33m**\u001b[0m\u001b[0mkwargs\u001b[0m\u001b[1;33m)\u001b[0m\u001b[1;33m\u001b[0m\u001b[1;33m\u001b[0m\u001b[0m\n\u001b[0m\u001b[0;32m    305\u001b[0m             \u001b[1;32mexcept\u001b[0m \u001b[1;33m(\u001b[0m\u001b[0mTypeError\u001b[0m\u001b[1;33m,\u001b[0m \u001b[0mNotImplementedError\u001b[0m\u001b[1;33m)\u001b[0m\u001b[1;33m:\u001b[0m\u001b[1;33m\u001b[0m\u001b[1;33m\u001b[0m\u001b[0m\n\u001b[0;32m    306\u001b[0m                 \u001b[1;32mif\u001b[0m \u001b[1;32mnot\u001b[0m \u001b[0mignore_failures\u001b[0m\u001b[1;33m:\u001b[0m\u001b[1;33m\u001b[0m\u001b[1;33m\u001b[0m\u001b[0m\n",
      "\u001b[1;32m~\\miniconda3\\lib\\site-packages\\pandas\\core\\internals\\blocks.py\u001b[0m in \u001b[0;36mreplace_list\u001b[1;34m(self, src_list, dest_list, inplace, regex)\u001b[0m\n\u001b[0;32m    784\u001b[0m             \u001b[1;31m# in order to avoid repeating the same computations\u001b[0m\u001b[1;33m\u001b[0m\u001b[1;33m\u001b[0m\u001b[1;33m\u001b[0m\u001b[0m\n\u001b[0;32m    785\u001b[0m             \u001b[0mmask\u001b[0m \u001b[1;33m=\u001b[0m \u001b[1;33m~\u001b[0m\u001b[0misna\u001b[0m\u001b[1;33m(\u001b[0m\u001b[0mvalues\u001b[0m\u001b[1;33m)\u001b[0m\u001b[1;33m\u001b[0m\u001b[1;33m\u001b[0m\u001b[0m\n\u001b[1;32m--> 786\u001b[1;33m             masks = [\n\u001b[0m\u001b[0;32m    787\u001b[0m                 \u001b[0mcompare_or_regex_search\u001b[0m\u001b[1;33m(\u001b[0m\u001b[0mvalues\u001b[0m\u001b[1;33m,\u001b[0m \u001b[0ms\u001b[0m\u001b[1;33m[\u001b[0m\u001b[1;36m0\u001b[0m\u001b[1;33m]\u001b[0m\u001b[1;33m,\u001b[0m \u001b[0mregex\u001b[0m\u001b[1;33m=\u001b[0m\u001b[0mregex\u001b[0m\u001b[1;33m,\u001b[0m \u001b[0mmask\u001b[0m\u001b[1;33m=\u001b[0m\u001b[0mmask\u001b[0m\u001b[1;33m)\u001b[0m\u001b[1;33m\u001b[0m\u001b[1;33m\u001b[0m\u001b[0m\n\u001b[0;32m    788\u001b[0m                 \u001b[1;32mfor\u001b[0m \u001b[0ms\u001b[0m \u001b[1;32min\u001b[0m \u001b[0mpairs\u001b[0m\u001b[1;33m\u001b[0m\u001b[1;33m\u001b[0m\u001b[0m\n",
      "\u001b[1;32m~\\miniconda3\\lib\\site-packages\\pandas\\core\\internals\\blocks.py\u001b[0m in \u001b[0;36m<listcomp>\u001b[1;34m(.0)\u001b[0m\n\u001b[0;32m    785\u001b[0m             \u001b[0mmask\u001b[0m \u001b[1;33m=\u001b[0m \u001b[1;33m~\u001b[0m\u001b[0misna\u001b[0m\u001b[1;33m(\u001b[0m\u001b[0mvalues\u001b[0m\u001b[1;33m)\u001b[0m\u001b[1;33m\u001b[0m\u001b[1;33m\u001b[0m\u001b[0m\n\u001b[0;32m    786\u001b[0m             masks = [\n\u001b[1;32m--> 787\u001b[1;33m                 \u001b[0mcompare_or_regex_search\u001b[0m\u001b[1;33m(\u001b[0m\u001b[0mvalues\u001b[0m\u001b[1;33m,\u001b[0m \u001b[0ms\u001b[0m\u001b[1;33m[\u001b[0m\u001b[1;36m0\u001b[0m\u001b[1;33m]\u001b[0m\u001b[1;33m,\u001b[0m \u001b[0mregex\u001b[0m\u001b[1;33m=\u001b[0m\u001b[0mregex\u001b[0m\u001b[1;33m,\u001b[0m \u001b[0mmask\u001b[0m\u001b[1;33m=\u001b[0m\u001b[0mmask\u001b[0m\u001b[1;33m)\u001b[0m\u001b[1;33m\u001b[0m\u001b[1;33m\u001b[0m\u001b[0m\n\u001b[0m\u001b[0;32m    788\u001b[0m                 \u001b[1;32mfor\u001b[0m \u001b[0ms\u001b[0m \u001b[1;32min\u001b[0m \u001b[0mpairs\u001b[0m\u001b[1;33m\u001b[0m\u001b[1;33m\u001b[0m\u001b[0m\n\u001b[0;32m    789\u001b[0m             ]\n",
      "\u001b[1;32m~\\miniconda3\\lib\\site-packages\\pandas\\core\\array_algos\\replace.py\u001b[0m in \u001b[0;36mcompare_or_regex_search\u001b[1;34m(a, b, regex, mask)\u001b[0m\n\u001b[0;32m     93\u001b[0m     \u001b[1;31m# GH#32621 use mask to avoid comparing to NAs\u001b[0m\u001b[1;33m\u001b[0m\u001b[1;33m\u001b[0m\u001b[1;33m\u001b[0m\u001b[0m\n\u001b[0;32m     94\u001b[0m     \u001b[1;32mif\u001b[0m \u001b[0misinstance\u001b[0m\u001b[1;33m(\u001b[0m\u001b[0ma\u001b[0m\u001b[1;33m,\u001b[0m \u001b[0mnp\u001b[0m\u001b[1;33m.\u001b[0m\u001b[0mndarray\u001b[0m\u001b[1;33m)\u001b[0m\u001b[1;33m:\u001b[0m\u001b[1;33m\u001b[0m\u001b[1;33m\u001b[0m\u001b[0m\n\u001b[1;32m---> 95\u001b[1;33m         \u001b[0ma\u001b[0m \u001b[1;33m=\u001b[0m \u001b[0ma\u001b[0m\u001b[1;33m[\u001b[0m\u001b[0mmask\u001b[0m\u001b[1;33m]\u001b[0m\u001b[1;33m\u001b[0m\u001b[1;33m\u001b[0m\u001b[0m\n\u001b[0m\u001b[0;32m     96\u001b[0m \u001b[1;33m\u001b[0m\u001b[0m\n\u001b[0;32m     97\u001b[0m     \u001b[1;32mif\u001b[0m \u001b[0mis_numeric_v_string_like\u001b[0m\u001b[1;33m(\u001b[0m\u001b[0ma\u001b[0m\u001b[1;33m,\u001b[0m \u001b[0mb\u001b[0m\u001b[1;33m)\u001b[0m\u001b[1;33m:\u001b[0m\u001b[1;33m\u001b[0m\u001b[1;33m\u001b[0m\u001b[0m\n",
      "\u001b[1;31mKeyboardInterrupt\u001b[0m: "
     ]
    }
   ],
   "source": [
    "deseq_dir = 'deseq_output'\n",
    "deseq_out = 'deseq_output_annotated'\n",
    "\n",
    "#Get file names\n",
    "file_list = []\n",
    "for subdir, dirs, files in os.walk(os.path.join(__path__, deseq_dir)):\n",
    "    for f in files:\n",
    "        if f.endswith('.tsv'):\n",
    "            file_list.append(f)\n",
    "        else:\n",
    "            pass\n",
    "        \n",
    "#Read in files\n",
    "for f in file_list:\n",
    "    df = pd.read_csv(\n",
    "        os.path.join(__path__, deseq_dir, f), \n",
    "        sep='\\t', \n",
    "        index_col=0) \n",
    "    df['common_name'] = df.index.to_series().replace(gene_dict)\n",
    "    df['description'] = df.index.to_series().replace(info_dict)\n",
    "    \n",
    "    df.to_csv(\n",
    "        os.path.join(__path__, deseq_out, f),\n",
    "        sep=\"\\t\")"
   ]
  },
  {
   "cell_type": "markdown",
   "metadata": {},
   "source": [
    "## Normalize"
   ]
  },
  {
   "cell_type": "code",
   "execution_count": 6,
   "metadata": {},
   "outputs": [],
   "source": [
    "rna_lengths_url = os.path.join(__path__, \"sce_lengths.txt\")\n",
    "rna_lengths = pd.read_csv(\n",
    "    rna_lengths_url,\n",
    "    sep=\"\\t\",\n",
    "    index_col=0)\n",
    "rna_lengths.index.name = None\n",
    "rna_length_dict = rna_lengths.to_dict()['Length']"
   ]
  },
  {
   "cell_type": "code",
   "execution_count": 7,
   "metadata": {},
   "outputs": [
    {
     "name": "stdout",
     "output_type": "stream",
     "text": [
      "Initial dataframe size: (7126, 30)\n",
      "Count thresholding: (7126, 30)\n",
      "Remove misc. RNAs: (6206, 31)\n",
      "\n",
      "Check outputs:\n",
      "18607X10    1000000.0\n",
      "18607X11    1000000.0\n",
      "18607X12    1000000.0\n",
      "18607X13    1000000.0\n",
      "18607X14    1000000.0\n",
      "18607X15    1000000.0\n",
      "18607X16    1000000.0\n",
      "18607X17    1000000.0\n",
      "18607X18    1000000.0\n",
      "18607X19    1000000.0\n",
      "18607X1     1000000.0\n",
      "18607X20    1000000.0\n",
      "18607X21    1000000.0\n",
      "18607X22    1000000.0\n",
      "18607X23    1000000.0\n",
      "18607X24    1000000.0\n",
      "18607X25    1000000.0\n",
      "18607X26    1000000.0\n",
      "18607X27    1000000.0\n",
      "18607X28    1000000.0\n",
      "18607X29    1000000.0\n",
      "18607X2     1000000.0\n",
      "18607X30    1000000.0\n",
      "18607X3     1000000.0\n",
      "18607X4     1000000.0\n",
      "18607X5     1000000.0\n",
      "18607X6     1000000.0\n",
      "18607X7     1000000.0\n",
      "18607X8     1000000.0\n",
      "18607X9     1000000.0\n",
      "dtype: float64\n"
     ]
    }
   ],
   "source": [
    "rnaseq_tpm = counts.copy()\n",
    "print(\"Initial dataframe size: \" + str(rnaseq_tpm.shape))\n",
    "\n",
    "# remove RNAs with less than 50 counts\n",
    "#rnaseq_tpm = rnaseq_tpm[rnaseq_tpm.min(axis=1) > 50]\n",
    "print(\"Count thresholding: \" + str(rnaseq_tpm.shape))\n",
    "\n",
    "# remove RNAs with unmapped lengths -- most are dubious ORFs, ncRNAs, etc.\n",
    "rnaseq_tpm['lengths'] = rnaseq_tpm.index.map(rna_length_dict)\n",
    "rnaseq_tpm = rnaseq_tpm[~rnaseq_tpm['lengths'].isna()]\n",
    "rnaseq_tpm['lengths'] = rnaseq_tpm['lengths'] / 1000\n",
    "print(\"Remove misc. RNAs: \" + str(rnaseq_tpm.shape))\n",
    "\n",
    "# Step 1\n",
    "rnaseq_tpm = rnaseq_tpm.divide((rnaseq_tpm['lengths']), axis=0) \n",
    "rnaseq_tpm.drop('lengths', axis=1, inplace=True)\n",
    "\n",
    "# Step 2\n",
    "rnaseq_tpm.loc['per_million'] = rnaseq_tpm.sum(axis=0) / 1e6\n",
    "\n",
    "# Step 3\n",
    "rnaseq_tpm = rnaseq_tpm.divide((rnaseq_tpm.loc['per_million']), axis=1) \n",
    "rnaseq_tpm.drop('per_million', axis=0, inplace=True)\n",
    "\n",
    "# Check outputs \n",
    "print(\"\\nCheck outputs:\")\n",
    "print(rnaseq_tpm.sum())\n",
    "\n",
    "rnaseq_tpm.to_csv(\n",
    "    os.path.join(__path__, 'output_tables', 'counts_normalized.tsv'),\n",
    "    sep=\"\\t\")"
   ]
  },
  {
   "cell_type": "code",
   "execution_count": 8,
   "metadata": {},
   "outputs": [],
   "source": [
    "rnaseq_tpm_named = rnaseq_tpm.copy()\n",
    "rnaseq_tpm_named = rnaseq_tpm_named[metadata.index.tolist()]\n",
    "\n",
    "rnaseq_tpm_named['common_name'] = rnaseq_tpm_named.index.to_series().replace(gene_dict)\n",
    "rnaseq_tpm_named['description'] = rnaseq_tpm_named.index.to_series().replace(info_dict)\n",
    "\n",
    "rnaseq_tpm_named.to_csv(\n",
    "    os.path.join(__path__, 'output_tables', 'counts_normalized_renamed.tsv'),\n",
    "    sep=\"\\t\")"
   ]
  },
  {
   "cell_type": "markdown",
   "metadata": {},
   "source": [
    "## Heatmaps"
   ]
  },
  {
   "cell_type": "code",
   "execution_count": 9,
   "metadata": {},
   "outputs": [],
   "source": [
    "rnaseq_tpm_plot = rnaseq_tpm_named.copy()\n",
    "rnaseq_tpm_plot.index = rnaseq_tpm_plot['common_name']\n",
    "rnaseq_tpm_plot = rnaseq_tpm_plot[metadata.index.tolist()]\n",
    "rnaseq_tpm_plot.index.name = None"
   ]
  },
  {
   "cell_type": "code",
   "execution_count": 10,
   "metadata": {},
   "outputs": [],
   "source": [
    "simp_sample_hex = {\n",
    "    'WT':   '#66c2a5', \n",
    "    'mct1': '#1b9e77',\n",
    "    'sit4': '#8da0cb',\n",
    "    'reg1': '#7570b3',\n",
    "    'snf1': 'black'\n",
    "}"
   ]
  },
  {
   "cell_type": "code",
   "execution_count": 11,
   "metadata": {},
   "outputs": [],
   "source": [
    "def make_sample_labels(_input, _label, simp_sample_hex, rnaseq_tpm):\n",
    "\n",
    "    sample_hex = {}\n",
    "    for i, r in _input.iterrows():\n",
    "        c = ''\n",
    "        if _label in r[2]:\n",
    "            c = simp_sample_hex[_label]\n",
    "        else: \n",
    "            c = 'white'\n",
    "        \n",
    "        sample_hex[i] = c\n",
    "        \n",
    "    sample_labels = rnaseq_tpm.T.copy()\n",
    "    sample_labels['label'] = sample_labels.index.map(sample_hex)\n",
    "    sample_labels = sample_labels[['label']]\n",
    "    \n",
    "    return sample_labels\n",
    "\n",
    "rnaseq_tpm = rnaseq_tpm[metadata.index.tolist()]\n",
    "\n",
    "sample_labels_wt = make_sample_labels(metadata, 'WT', simp_sample_hex, rnaseq_tpm)\n",
    "sample_labels_mct1 = make_sample_labels(metadata, 'mct1', simp_sample_hex, rnaseq_tpm)\n",
    "sample_labels_sit4 = make_sample_labels(metadata, 'sit4', simp_sample_hex, rnaseq_tpm)\n",
    "sample_labels_reg1 = make_sample_labels(metadata, 'reg1', simp_sample_hex, rnaseq_tpm)\n",
    "sample_labels_snf1 = make_sample_labels(metadata, 'snf1', simp_sample_hex, rnaseq_tpm)"
   ]
  },
  {
   "cell_type": "code",
   "execution_count": 38,
   "metadata": {},
   "outputs": [
    {
     "name": "stderr",
     "output_type": "stream",
     "text": [
      "C:\\Users\\jorda\\miniconda3\\lib\\site-packages\\seaborn\\matrix.py:654: UserWarning: Clustering large matrix with scipy. Installing `fastcluster` may give better performance.\n",
      "  warnings.warn(msg)\n"
     ]
    },
    {
     "ename": "ValueError",
     "evalue": "The condensed distance matrix must contain only finite values.",
     "output_type": "error",
     "traceback": [
      "\u001b[1;31m---------------------------------------------------------------------------\u001b[0m",
      "\u001b[1;31mValueError\u001b[0m                                Traceback (most recent call last)",
      "\u001b[1;32m~\\AppData\\Local\\Temp/ipykernel_37512/2241453631.py\u001b[0m in \u001b[0;36m<module>\u001b[1;34m\u001b[0m\n\u001b[0;32m      1\u001b[0m \u001b[0msns\u001b[0m\u001b[1;33m.\u001b[0m\u001b[0mset\u001b[0m\u001b[1;33m(\u001b[0m\u001b[0mfont_scale\u001b[0m\u001b[1;33m=\u001b[0m\u001b[1;36m0.1\u001b[0m\u001b[1;33m)\u001b[0m\u001b[1;33m\u001b[0m\u001b[1;33m\u001b[0m\u001b[0m\n\u001b[1;32m----> 2\u001b[1;33m sns.clustermap(\n\u001b[0m\u001b[0;32m      3\u001b[0m     \u001b[0mrnaseq_tpm_plot\u001b[0m\u001b[1;33m[\u001b[0m\u001b[0mmetadata\u001b[0m\u001b[1;33m.\u001b[0m\u001b[0mindex\u001b[0m\u001b[1;33m.\u001b[0m\u001b[0mtolist\u001b[0m\u001b[1;33m(\u001b[0m\u001b[1;33m)\u001b[0m\u001b[1;33m]\u001b[0m\u001b[1;33m,\u001b[0m\u001b[1;33m\u001b[0m\u001b[1;33m\u001b[0m\u001b[0m\n\u001b[0;32m      4\u001b[0m     \u001b[0mz_score\u001b[0m\u001b[1;33m=\u001b[0m\u001b[1;36m0\u001b[0m\u001b[1;33m,\u001b[0m\u001b[1;33m\u001b[0m\u001b[1;33m\u001b[0m\u001b[0m\n\u001b[0;32m      5\u001b[0m     \u001b[0mrow_cluster\u001b[0m\u001b[1;33m=\u001b[0m\u001b[1;32mTrue\u001b[0m\u001b[1;33m,\u001b[0m\u001b[1;33m\u001b[0m\u001b[1;33m\u001b[0m\u001b[0m\n",
      "\u001b[1;32m~\\miniconda3\\lib\\site-packages\\seaborn\\_decorators.py\u001b[0m in \u001b[0;36minner_f\u001b[1;34m(*args, **kwargs)\u001b[0m\n\u001b[0;32m     44\u001b[0m             )\n\u001b[0;32m     45\u001b[0m         \u001b[0mkwargs\u001b[0m\u001b[1;33m.\u001b[0m\u001b[0mupdate\u001b[0m\u001b[1;33m(\u001b[0m\u001b[1;33m{\u001b[0m\u001b[0mk\u001b[0m\u001b[1;33m:\u001b[0m \u001b[0marg\u001b[0m \u001b[1;32mfor\u001b[0m \u001b[0mk\u001b[0m\u001b[1;33m,\u001b[0m \u001b[0marg\u001b[0m \u001b[1;32min\u001b[0m \u001b[0mzip\u001b[0m\u001b[1;33m(\u001b[0m\u001b[0msig\u001b[0m\u001b[1;33m.\u001b[0m\u001b[0mparameters\u001b[0m\u001b[1;33m,\u001b[0m \u001b[0margs\u001b[0m\u001b[1;33m)\u001b[0m\u001b[1;33m}\u001b[0m\u001b[1;33m)\u001b[0m\u001b[1;33m\u001b[0m\u001b[1;33m\u001b[0m\u001b[0m\n\u001b[1;32m---> 46\u001b[1;33m         \u001b[1;32mreturn\u001b[0m \u001b[0mf\u001b[0m\u001b[1;33m(\u001b[0m\u001b[1;33m**\u001b[0m\u001b[0mkwargs\u001b[0m\u001b[1;33m)\u001b[0m\u001b[1;33m\u001b[0m\u001b[1;33m\u001b[0m\u001b[0m\n\u001b[0m\u001b[0;32m     47\u001b[0m     \u001b[1;32mreturn\u001b[0m \u001b[0minner_f\u001b[0m\u001b[1;33m\u001b[0m\u001b[1;33m\u001b[0m\u001b[0m\n\u001b[0;32m     48\u001b[0m \u001b[1;33m\u001b[0m\u001b[0m\n",
      "\u001b[1;32m~\\miniconda3\\lib\\site-packages\\seaborn\\matrix.py\u001b[0m in \u001b[0;36mclustermap\u001b[1;34m(data, pivot_kws, method, metric, z_score, standard_scale, figsize, cbar_kws, row_cluster, col_cluster, row_linkage, col_linkage, row_colors, col_colors, mask, dendrogram_ratio, colors_ratio, cbar_pos, tree_kws, **kwargs)\u001b[0m\n\u001b[0;32m   1404\u001b[0m                           colors_ratio=colors_ratio, cbar_pos=cbar_pos)\n\u001b[0;32m   1405\u001b[0m \u001b[1;33m\u001b[0m\u001b[0m\n\u001b[1;32m-> 1406\u001b[1;33m     return plotter.plot(metric=metric, method=method,\n\u001b[0m\u001b[0;32m   1407\u001b[0m                         \u001b[0mcolorbar_kws\u001b[0m\u001b[1;33m=\u001b[0m\u001b[0mcbar_kws\u001b[0m\u001b[1;33m,\u001b[0m\u001b[1;33m\u001b[0m\u001b[1;33m\u001b[0m\u001b[0m\n\u001b[0;32m   1408\u001b[0m                         \u001b[0mrow_cluster\u001b[0m\u001b[1;33m=\u001b[0m\u001b[0mrow_cluster\u001b[0m\u001b[1;33m,\u001b[0m \u001b[0mcol_cluster\u001b[0m\u001b[1;33m=\u001b[0m\u001b[0mcol_cluster\u001b[0m\u001b[1;33m,\u001b[0m\u001b[1;33m\u001b[0m\u001b[1;33m\u001b[0m\u001b[0m\n",
      "\u001b[1;32m~\\miniconda3\\lib\\site-packages\\seaborn\\matrix.py\u001b[0m in \u001b[0;36mplot\u001b[1;34m(self, metric, method, colorbar_kws, row_cluster, col_cluster, row_linkage, col_linkage, tree_kws, **kws)\u001b[0m\n\u001b[0;32m   1217\u001b[0m         \u001b[0mcolorbar_kws\u001b[0m \u001b[1;33m=\u001b[0m \u001b[1;33m{\u001b[0m\u001b[1;33m}\u001b[0m \u001b[1;32mif\u001b[0m \u001b[0mcolorbar_kws\u001b[0m \u001b[1;32mis\u001b[0m \u001b[1;32mNone\u001b[0m \u001b[1;32melse\u001b[0m \u001b[0mcolorbar_kws\u001b[0m\u001b[1;33m\u001b[0m\u001b[1;33m\u001b[0m\u001b[0m\n\u001b[0;32m   1218\u001b[0m \u001b[1;33m\u001b[0m\u001b[0m\n\u001b[1;32m-> 1219\u001b[1;33m         self.plot_dendrograms(row_cluster, col_cluster, metric, method,\n\u001b[0m\u001b[0;32m   1220\u001b[0m                               \u001b[0mrow_linkage\u001b[0m\u001b[1;33m=\u001b[0m\u001b[0mrow_linkage\u001b[0m\u001b[1;33m,\u001b[0m \u001b[0mcol_linkage\u001b[0m\u001b[1;33m=\u001b[0m\u001b[0mcol_linkage\u001b[0m\u001b[1;33m,\u001b[0m\u001b[1;33m\u001b[0m\u001b[1;33m\u001b[0m\u001b[0m\n\u001b[0;32m   1221\u001b[0m                               tree_kws=tree_kws)\n",
      "\u001b[1;32m~\\miniconda3\\lib\\site-packages\\seaborn\\matrix.py\u001b[0m in \u001b[0;36mplot_dendrograms\u001b[1;34m(self, row_cluster, col_cluster, metric, method, row_linkage, col_linkage, tree_kws)\u001b[0m\n\u001b[0;32m   1062\u001b[0m         \u001b[1;31m# Plot the row dendrogram\u001b[0m\u001b[1;33m\u001b[0m\u001b[1;33m\u001b[0m\u001b[1;33m\u001b[0m\u001b[0m\n\u001b[0;32m   1063\u001b[0m         \u001b[1;32mif\u001b[0m \u001b[0mrow_cluster\u001b[0m\u001b[1;33m:\u001b[0m\u001b[1;33m\u001b[0m\u001b[1;33m\u001b[0m\u001b[0m\n\u001b[1;32m-> 1064\u001b[1;33m             self.dendrogram_row = dendrogram(\n\u001b[0m\u001b[0;32m   1065\u001b[0m                 \u001b[0mself\u001b[0m\u001b[1;33m.\u001b[0m\u001b[0mdata2d\u001b[0m\u001b[1;33m,\u001b[0m \u001b[0mmetric\u001b[0m\u001b[1;33m=\u001b[0m\u001b[0mmetric\u001b[0m\u001b[1;33m,\u001b[0m \u001b[0mmethod\u001b[0m\u001b[1;33m=\u001b[0m\u001b[0mmethod\u001b[0m\u001b[1;33m,\u001b[0m \u001b[0mlabel\u001b[0m\u001b[1;33m=\u001b[0m\u001b[1;32mFalse\u001b[0m\u001b[1;33m,\u001b[0m \u001b[0maxis\u001b[0m\u001b[1;33m=\u001b[0m\u001b[1;36m0\u001b[0m\u001b[1;33m,\u001b[0m\u001b[1;33m\u001b[0m\u001b[1;33m\u001b[0m\u001b[0m\n\u001b[0;32m   1066\u001b[0m                 \u001b[0max\u001b[0m\u001b[1;33m=\u001b[0m\u001b[0mself\u001b[0m\u001b[1;33m.\u001b[0m\u001b[0max_row_dendrogram\u001b[0m\u001b[1;33m,\u001b[0m \u001b[0mrotate\u001b[0m\u001b[1;33m=\u001b[0m\u001b[1;32mTrue\u001b[0m\u001b[1;33m,\u001b[0m \u001b[0mlinkage\u001b[0m\u001b[1;33m=\u001b[0m\u001b[0mrow_linkage\u001b[0m\u001b[1;33m,\u001b[0m\u001b[1;33m\u001b[0m\u001b[1;33m\u001b[0m\u001b[0m\n",
      "\u001b[1;32m~\\miniconda3\\lib\\site-packages\\seaborn\\_decorators.py\u001b[0m in \u001b[0;36minner_f\u001b[1;34m(*args, **kwargs)\u001b[0m\n\u001b[0;32m     44\u001b[0m             )\n\u001b[0;32m     45\u001b[0m         \u001b[0mkwargs\u001b[0m\u001b[1;33m.\u001b[0m\u001b[0mupdate\u001b[0m\u001b[1;33m(\u001b[0m\u001b[1;33m{\u001b[0m\u001b[0mk\u001b[0m\u001b[1;33m:\u001b[0m \u001b[0marg\u001b[0m \u001b[1;32mfor\u001b[0m \u001b[0mk\u001b[0m\u001b[1;33m,\u001b[0m \u001b[0marg\u001b[0m \u001b[1;32min\u001b[0m \u001b[0mzip\u001b[0m\u001b[1;33m(\u001b[0m\u001b[0msig\u001b[0m\u001b[1;33m.\u001b[0m\u001b[0mparameters\u001b[0m\u001b[1;33m,\u001b[0m \u001b[0margs\u001b[0m\u001b[1;33m)\u001b[0m\u001b[1;33m}\u001b[0m\u001b[1;33m)\u001b[0m\u001b[1;33m\u001b[0m\u001b[1;33m\u001b[0m\u001b[0m\n\u001b[1;32m---> 46\u001b[1;33m         \u001b[1;32mreturn\u001b[0m \u001b[0mf\u001b[0m\u001b[1;33m(\u001b[0m\u001b[1;33m**\u001b[0m\u001b[0mkwargs\u001b[0m\u001b[1;33m)\u001b[0m\u001b[1;33m\u001b[0m\u001b[1;33m\u001b[0m\u001b[0m\n\u001b[0m\u001b[0;32m     47\u001b[0m     \u001b[1;32mreturn\u001b[0m \u001b[0minner_f\u001b[0m\u001b[1;33m\u001b[0m\u001b[1;33m\u001b[0m\u001b[0m\n\u001b[0;32m     48\u001b[0m \u001b[1;33m\u001b[0m\u001b[0m\n",
      "\u001b[1;32m~\\miniconda3\\lib\\site-packages\\seaborn\\matrix.py\u001b[0m in \u001b[0;36mdendrogram\u001b[1;34m(data, linkage, axis, label, metric, method, rotate, tree_kws, ax)\u001b[0m\n\u001b[0;32m    777\u001b[0m \u001b[1;33m\u001b[0m\u001b[0m\n\u001b[0;32m    778\u001b[0m     \"\"\"\n\u001b[1;32m--> 779\u001b[1;33m     plotter = _DendrogramPlotter(data, linkage=linkage, axis=axis,\n\u001b[0m\u001b[0;32m    780\u001b[0m                                  \u001b[0mmetric\u001b[0m\u001b[1;33m=\u001b[0m\u001b[0mmetric\u001b[0m\u001b[1;33m,\u001b[0m \u001b[0mmethod\u001b[0m\u001b[1;33m=\u001b[0m\u001b[0mmethod\u001b[0m\u001b[1;33m,\u001b[0m\u001b[1;33m\u001b[0m\u001b[1;33m\u001b[0m\u001b[0m\n\u001b[0;32m    781\u001b[0m                                  label=label, rotate=rotate)\n",
      "\u001b[1;32m~\\miniconda3\\lib\\site-packages\\seaborn\\matrix.py\u001b[0m in \u001b[0;36m__init__\u001b[1;34m(self, data, linkage, metric, method, axis, label, rotate)\u001b[0m\n\u001b[0;32m    587\u001b[0m \u001b[1;33m\u001b[0m\u001b[0m\n\u001b[0;32m    588\u001b[0m         \u001b[1;32mif\u001b[0m \u001b[0mlinkage\u001b[0m \u001b[1;32mis\u001b[0m \u001b[1;32mNone\u001b[0m\u001b[1;33m:\u001b[0m\u001b[1;33m\u001b[0m\u001b[1;33m\u001b[0m\u001b[0m\n\u001b[1;32m--> 589\u001b[1;33m             \u001b[0mself\u001b[0m\u001b[1;33m.\u001b[0m\u001b[0mlinkage\u001b[0m \u001b[1;33m=\u001b[0m \u001b[0mself\u001b[0m\u001b[1;33m.\u001b[0m\u001b[0mcalculated_linkage\u001b[0m\u001b[1;33m\u001b[0m\u001b[1;33m\u001b[0m\u001b[0m\n\u001b[0m\u001b[0;32m    590\u001b[0m         \u001b[1;32melse\u001b[0m\u001b[1;33m:\u001b[0m\u001b[1;33m\u001b[0m\u001b[1;33m\u001b[0m\u001b[0m\n\u001b[0;32m    591\u001b[0m             \u001b[0mself\u001b[0m\u001b[1;33m.\u001b[0m\u001b[0mlinkage\u001b[0m \u001b[1;33m=\u001b[0m \u001b[0mlinkage\u001b[0m\u001b[1;33m\u001b[0m\u001b[1;33m\u001b[0m\u001b[0m\n",
      "\u001b[1;32m~\\miniconda3\\lib\\site-packages\\seaborn\\matrix.py\u001b[0m in \u001b[0;36mcalculated_linkage\u001b[1;34m(self)\u001b[0m\n\u001b[0;32m    654\u001b[0m                 \u001b[0mwarnings\u001b[0m\u001b[1;33m.\u001b[0m\u001b[0mwarn\u001b[0m\u001b[1;33m(\u001b[0m\u001b[0mmsg\u001b[0m\u001b[1;33m)\u001b[0m\u001b[1;33m\u001b[0m\u001b[1;33m\u001b[0m\u001b[0m\n\u001b[0;32m    655\u001b[0m \u001b[1;33m\u001b[0m\u001b[0m\n\u001b[1;32m--> 656\u001b[1;33m         \u001b[1;32mreturn\u001b[0m \u001b[0mself\u001b[0m\u001b[1;33m.\u001b[0m\u001b[0m_calculate_linkage_scipy\u001b[0m\u001b[1;33m(\u001b[0m\u001b[1;33m)\u001b[0m\u001b[1;33m\u001b[0m\u001b[1;33m\u001b[0m\u001b[0m\n\u001b[0m\u001b[0;32m    657\u001b[0m \u001b[1;33m\u001b[0m\u001b[0m\n\u001b[0;32m    658\u001b[0m     \u001b[1;32mdef\u001b[0m \u001b[0mcalculate_dendrogram\u001b[0m\u001b[1;33m(\u001b[0m\u001b[0mself\u001b[0m\u001b[1;33m)\u001b[0m\u001b[1;33m:\u001b[0m\u001b[1;33m\u001b[0m\u001b[1;33m\u001b[0m\u001b[0m\n",
      "\u001b[1;32m~\\miniconda3\\lib\\site-packages\\seaborn\\matrix.py\u001b[0m in \u001b[0;36m_calculate_linkage_scipy\u001b[1;34m(self)\u001b[0m\n\u001b[0;32m    622\u001b[0m \u001b[1;33m\u001b[0m\u001b[0m\n\u001b[0;32m    623\u001b[0m     \u001b[1;32mdef\u001b[0m \u001b[0m_calculate_linkage_scipy\u001b[0m\u001b[1;33m(\u001b[0m\u001b[0mself\u001b[0m\u001b[1;33m)\u001b[0m\u001b[1;33m:\u001b[0m\u001b[1;33m\u001b[0m\u001b[1;33m\u001b[0m\u001b[0m\n\u001b[1;32m--> 624\u001b[1;33m         linkage = hierarchy.linkage(self.array, method=self.method,\n\u001b[0m\u001b[0;32m    625\u001b[0m                                     metric=self.metric)\n\u001b[0;32m    626\u001b[0m         \u001b[1;32mreturn\u001b[0m \u001b[0mlinkage\u001b[0m\u001b[1;33m\u001b[0m\u001b[1;33m\u001b[0m\u001b[0m\n",
      "\u001b[1;32m~\\miniconda3\\lib\\site-packages\\scipy\\cluster\\hierarchy.py\u001b[0m in \u001b[0;36mlinkage\u001b[1;34m(y, method, metric, optimal_ordering)\u001b[0m\n\u001b[0;32m   1063\u001b[0m \u001b[1;33m\u001b[0m\u001b[0m\n\u001b[0;32m   1064\u001b[0m     \u001b[1;32mif\u001b[0m \u001b[1;32mnot\u001b[0m \u001b[0mnp\u001b[0m\u001b[1;33m.\u001b[0m\u001b[0mall\u001b[0m\u001b[1;33m(\u001b[0m\u001b[0mnp\u001b[0m\u001b[1;33m.\u001b[0m\u001b[0misfinite\u001b[0m\u001b[1;33m(\u001b[0m\u001b[0my\u001b[0m\u001b[1;33m)\u001b[0m\u001b[1;33m)\u001b[0m\u001b[1;33m:\u001b[0m\u001b[1;33m\u001b[0m\u001b[1;33m\u001b[0m\u001b[0m\n\u001b[1;32m-> 1065\u001b[1;33m         raise ValueError(\"The condensed distance matrix must contain only \"\n\u001b[0m\u001b[0;32m   1066\u001b[0m                          \"finite values.\")\n\u001b[0;32m   1067\u001b[0m \u001b[1;33m\u001b[0m\u001b[0m\n",
      "\u001b[1;31mValueError\u001b[0m: The condensed distance matrix must contain only finite values."
     ]
    },
    {
     "data": {
      "image/png": "[encoded data removed]",
      "text/plain": [
       "<Figure size 288x14400 with 5 Axes>"
      ]
     },
     "metadata": {},
     "output_type": "display_data"
    }
   ],
   "source": [
    "sns.set(font_scale=0.1)\n",
    "sns.clustermap(\n",
    "    rnaseq_tpm_plot[metadata.index.tolist()],\n",
    "    z_score=0,\n",
    "    row_cluster=True,\n",
    "    col_cluster=False,\n",
    "    center=0,\n",
    "    cbar_kws={'label': 'Z-score'},\n",
    "    col_colors=[\n",
    "        sample_labels_wt.label,\n",
    "        sample_labels_mct1.label,\n",
    "        sample_labels_sit4.label,\n",
    "        sample_labels_reg1.label,\n",
    "        sample_labels_snf1.label],\n",
    "    figsize=(4,200))\n",
    "\n",
    "# Label legends\n",
    "g = lambda m,c: plt.plot([],[],marker='o', color=c, ls=\"none\")[0]\n",
    "handles_g = [g(\"s\", list(simp_sample_hex.values())[i]) for i in range(len(list(simp_sample_hex.values())))]\n",
    "plt.legend(handles_g, list(simp_sample_hex.keys()), bbox_to_anchor=(11.75, 0.65), loc=2, borderaxespad=0., title='Samples')\n",
    "\n",
    "#Save and show figure\n",
    "plt.savefig(\n",
    "    os.path.join(__path__, \"plots\", \"rnaseq_protein_ALL_2021_02_10.pdf\"),\n",
    "    dpi=300,\n",
    "    bbox_inches='tight')\n",
    "plt.show()"
   ]
  },
  {
   "cell_type": "code",
   "execution_count": 12,
   "metadata": {},
   "outputs": [],
   "source": [
    "gene_list_1 = [\n",
    "    'VIP1',\n",
    "    'PLC1',\n",
    "    'PHO5',\n",
    "    'VTC2',\n",
    "    'PHO84',\n",
    "    'PHO81',\n",
    "    'VTC1',\n",
    "    'VTC4',\n",
    "    'VTC3',\n",
    "    'PHO86',\n",
    "    'PHO12',\n",
    "    'PHO8',\n",
    "    'IRC15',\n",
    "    'CTF19'\n",
    "]\n",
    "\n",
    "gene_list_2 = [\n",
    "    'CYC1',\n",
    "    'NDE1',\n",
    "    'MDH1',\n",
    "    'ATP15',\n",
    "    'POR1',\n",
    "    'ATP3',\n",
    "    'ATP2',\n",
    "    'ATP18',\n",
    "    'ATP19',\n",
    "    'ACH1',\n",
    "    'ATP17',\n",
    "    'AIM33',\n",
    "    'NDI1',\n",
    "    'MIR1',\n",
    "    'SEF1',\n",
    "    'COX9',\n",
    "    'COX5A',\n",
    "    'CYT1',\n",
    "    'PET9',\n",
    "    'COX6',\n",
    "    'COX7',\n",
    "    'RIP1',\n",
    "    'COX13',\n",
    "    'INH1',\n",
    "    'QCR7',\n",
    "    'QCR8',\n",
    "    'SDH2',\n",
    "    'QCR9',\n",
    "    'ATP14',\n",
    "    'KGD2',\n",
    "    'ATP4',\n",
    "    'ATP20',\n",
    "    'ATP5',\n",
    "    'COX8',\n",
    "    'COR1',\n",
    "    'COX4',\n",
    "    'ATP1',\n",
    "    'ATP7',\n",
    "    'QCR2',\n",
    "    'ATP16',\n",
    "    'MIC10',\n",
    "    'LPD1',\n",
    "    'MCR1',\n",
    "    'KGD1',\n",
    "    'AGX1',\n",
    "    'GSM1',\n",
    "    'RPM2',\n",
    "    'SDH3',\n",
    "    'QCR6',\n",
    "    'QCR10',\n",
    "    'COX12',\n",
    "    'TIM11',\n",
    "    'YPR010C-A'\n",
    "]\n",
    "\n",
    "simp_sample_hex = {\n",
    "    'WT':   '#66c2a5', \n",
    "    'mct1': '#1b9e77',\n",
    "    'sit4': '#8da0cb',\n",
    "    'snf1': 'black'\n",
    "}"
   ]
  },
  {
   "cell_type": "code",
   "execution_count": 13,
   "metadata": {},
   "outputs": [],
   "source": [
    "metadata_noREG1 = metadata.loc[~metadata['Condition'].str.contains('reg1')]\n",
    "\n",
    "rnaseq_tpm_set1 = rnaseq_tpm_named.copy()\n",
    "rnaseq_tpm_set1.index = rnaseq_tpm_set1['common_name']\n",
    "rnaseq_tpm_set1 = rnaseq_tpm_set1[metadata_noREG1.index.tolist()]\n",
    "rnaseq_tpm_set1.index.name = None\n",
    "rnaseq_tpm_set1 = rnaseq_tpm_set1.reindex(gene_list_1)\n",
    "\n",
    "rnaseq_tpm_set2 = rnaseq_tpm_named.copy()\n",
    "rnaseq_tpm_set2.index = rnaseq_tpm_set2['common_name']\n",
    "rnaseq_tpm_set2 = rnaseq_tpm_set2[metadata_noREG1.index.tolist()]\n",
    "rnaseq_tpm_set2.index.name = None\n",
    "rnaseq_tpm_set2 = rnaseq_tpm_set2.reindex(gene_list_2)"
   ]
  },
  {
   "cell_type": "code",
   "execution_count": null,
   "metadata": {},
   "outputs": [],
   "source": []
  },
  {
   "cell_type": "code",
   "execution_count": 14,
   "metadata": {},
   "outputs": [
    {
     "data": {
      "image/png": "[encoded data removed]",
      "text/plain": [
       "<Figure size 504x432 with 5 Axes>"
      ]
     },
     "metadata": {},
     "output_type": "display_data"
    }
   ],
   "source": [
    "sns.set(font_scale=1)\n",
    "sns.clustermap(\n",
    "    rnaseq_tpm_set1,\n",
    "    z_score=0,\n",
    "    row_cluster=True,\n",
    "    col_cluster=False,\n",
    "    center=0,\n",
    "    cbar_kws={'label': 'Z-score'},\n",
    "    col_colors=[\n",
    "        sample_labels_wt.label,\n",
    "        sample_labels_mct1.label,\n",
    "        sample_labels_sit4.label,\n",
    "        sample_labels_snf1.label],\n",
    "    figsize=(7,6))\n",
    "\n",
    "# Label legends\n",
    "g = lambda m,c: plt.plot([],[],marker='o', color=c, ls=\"none\")[0]\n",
    "handles_g = [g(\"s\", list(simp_sample_hex.values())[i]) for i in range(len(list(simp_sample_hex.values())))]\n",
    "plt.legend(handles_g, list(simp_sample_hex.keys()), bbox_to_anchor=(11.75, 1), loc=2, borderaxespad=0., title='Samples')\n",
    "\n",
    "#Save and show figure\n",
    "plt.savefig(\n",
    "    os.path.join(__path__, \"plots\", \"rnaseq_protein_geneset1_noREG1_2021_04_14.pdf\"),\n",
    "    dpi=300,\n",
    "    bbox_inches='tight')\n",
    "plt.show()"
   ]
  },
  {
   "cell_type": "code",
   "execution_count": 15,
   "metadata": {},
   "outputs": [],
   "source": [
    "metadata_noREG1_noSNF1 = metadata.loc[\n",
    "    ~metadata['Condition'].str.contains('reg1')\n",
    "].loc[\n",
    "    ~metadata['Condition'].str.contains('snf1')\n",
    "].loc[\n",
    "    ~metadata['Condition'].str.contains('sfn1')\n",
    "]\n",
    "\n",
    "rnaseq_tpm_set3 = rnaseq_tpm_named.copy()\n",
    "rnaseq_tpm_set3.index = rnaseq_tpm_set3['common_name']\n",
    "rnaseq_tpm_set3 = rnaseq_tpm_set3[metadata_noREG1_noSNF1.index.tolist()]\n",
    "rnaseq_tpm_set3.index.name = None\n",
    "rnaseq_tpm_set3 = rnaseq_tpm_set3.reindex(gene_list_1)\n",
    "\n",
    "rnaseq_tpm_set4 = rnaseq_tpm_named.copy()\n",
    "rnaseq_tpm_set4.index = rnaseq_tpm_set4['common_name']\n",
    "rnaseq_tpm_set4 = rnaseq_tpm_set4[metadata_noREG1_noSNF1.index.tolist()]\n",
    "rnaseq_tpm_set4.index.name = None\n",
    "rnaseq_tpm_set4 = rnaseq_tpm_set4.reindex(gene_list_2)"
   ]
  },
  {
   "cell_type": "code",
   "execution_count": 16,
   "metadata": {},
   "outputs": [],
   "source": [
    "simp_sample_hex = {\n",
    "    'WT':   'black', \n",
    "    'mct1': '#8da0cb',\n",
    "    'sit4': '#66c2a5'\n",
    "}"
   ]
  },
  {
   "cell_type": "code",
   "execution_count": 17,
   "metadata": {},
   "outputs": [],
   "source": [
    "sample_labels_wt = make_sample_labels(metadata, 'WT', simp_sample_hex, rnaseq_tpm)\n",
    "sample_labels_mct1 = make_sample_labels(metadata, 'mct1', simp_sample_hex, rnaseq_tpm)\n",
    "sample_labels_sit4 = make_sample_labels(metadata, 'sit4', simp_sample_hex, rnaseq_tpm)"
   ]
  },
  {
   "cell_type": "code",
   "execution_count": 18,
   "metadata": {},
   "outputs": [
    {
     "data": {
      "image/png": "[encoded data removed]",
      "text/plain": [
       "<Figure size 504x432 with 5 Axes>"
      ]
     },
     "metadata": {},
     "output_type": "display_data"
    }
   ],
   "source": [
    "sns.set(font_scale=1)\n",
    "sns.clustermap(\n",
    "    rnaseq_tpm_set3,\n",
    "    z_score=0,\n",
    "    row_cluster=True,\n",
    "    col_cluster=False,\n",
    "    center=0,\n",
    "    cbar_kws={'label': 'Z-score'},\n",
    "    col_colors=[\n",
    "        sample_labels_wt.label,\n",
    "        sample_labels_mct1.label,\n",
    "        sample_labels_sit4.label],\n",
    "    figsize=(7,6))\n",
    "\n",
    "# Label legends\n",
    "g = lambda m,c: plt.plot([],[],marker='o', color=c, ls=\"none\")[0]\n",
    "handles_g = [g(\"s\", list(simp_sample_hex.values())[i]) for i in range(len(list(simp_sample_hex.values())))]\n",
    "plt.legend(handles_g, list(simp_sample_hex.keys()), bbox_to_anchor=(11.75, 1), loc=2, borderaxespad=0., title='Samples')\n",
    "\n",
    "#Save and show figure\n",
    "plt.savefig(\n",
    "    os.path.join(__path__, \"plots\", \"rnaseq_protein_geneset1_noREG1_noSNF1_2022_03_16.png\"),\n",
    "    dpi=1200,\n",
    "    bbox_inches='tight')\n",
    "plt.show()"
   ]
  },
  {
   "cell_type": "code",
   "execution_count": 22,
   "metadata": {},
   "outputs": [
    {
     "data": {
      "text/plain": [
       "VIP1     0.211777\n",
       "PLC1     0.194456\n",
       "PHO5     1.000016\n",
       "VTC2     0.041668\n",
       "PHO84    1.883264\n",
       "PHO81    0.095395\n",
       "VTC1     0.226701\n",
       "VTC4     0.229270\n",
       "VTC3     0.556866\n",
       "PHO86    0.197666\n",
       "PHO12    1.310650\n",
       "PHO8     0.125689\n",
       "IRC15   -0.045508\n",
       "CTF19   -0.200020\n",
       "dtype: float64"
      ]
     },
     "execution_count": 22,
     "metadata": {},
     "output_type": "execute_result"
    }
   ],
   "source": [
    "np.log2((rnaseq_tpm_set3[[\"18607X10\",\"18607X11\",\"18607X12\"]].sum(axis=1)/3) /\n",
    "(rnaseq_tpm_set3[[\"18607X4\",\"18607X5\",\"18607X6\"]].sum(axis=1)/3))"
   ]
  },
  {
   "cell_type": "code",
   "execution_count": 23,
   "metadata": {},
   "outputs": [
    {
     "data": {
      "text/plain": [
       "VIP1     0.477212\n",
       "PLC1     0.565553\n",
       "PHO5     4.378026\n",
       "VTC2     0.898650\n",
       "PHO84    5.487696\n",
       "PHO81    1.340769\n",
       "VTC1     1.783568\n",
       "VTC4     1.908767\n",
       "VTC3     3.173869\n",
       "PHO86    0.860536\n",
       "PHO12    4.396870\n",
       "PHO8     0.626006\n",
       "IRC15    1.159821\n",
       "CTF19    1.181388\n",
       "dtype: float64"
      ]
     },
     "execution_count": 23,
     "metadata": {},
     "output_type": "execute_result"
    }
   ],
   "source": [
    "np.log2((rnaseq_tpm_set3[[\"18607X7\",\"18607X8\",\"18607X9\"]].sum(axis=1)/3) /\n",
    "(rnaseq_tpm_set3[[\"18607X4\",\"18607X5\",\"18607X6\"]].sum(axis=1)/3))"
   ]
  },
  {
   "cell_type": "code",
   "execution_count": null,
   "metadata": {},
   "outputs": [],
   "source": []
  },
  {
   "cell_type": "code",
   "execution_count": null,
   "metadata": {},
   "outputs": [],
   "source": []
  },
  {
   "cell_type": "code",
   "execution_count": null,
   "metadata": {},
   "outputs": [],
   "source": []
  },
  {
   "cell_type": "code",
   "execution_count": null,
   "metadata": {},
   "outputs": [],
   "source": []
  },
  {
   "cell_type": "code",
   "execution_count": 42,
   "metadata": {},
   "outputs": [
    {
     "data": {
      "image/png": "[encoded data removed]",
      "text/plain": [
       "<Figure size 504x1080 with 5 Axes>"
      ]
     },
     "metadata": {},
     "output_type": "display_data"
    }
   ],
   "source": [
    "sns.set(font_scale=0.8)\n",
    "sns.clustermap(\n",
    "    rnaseq_tpm_set2,\n",
    "    z_score=0,\n",
    "    row_cluster=True,\n",
    "    col_cluster=False,\n",
    "    center=0,\n",
    "    cbar_kws={'label': 'Z-score'},\n",
    "    col_colors=[\n",
    "        sample_labels_wt.label,\n",
    "        sample_labels_mct1.label,\n",
    "        sample_labels_sit4.label,\n",
    "        sample_labels_snf1.label],\n",
    "    figsize=(7,15))\n",
    "\n",
    "# Label legends\n",
    "g = lambda m,c: plt.plot([],[],marker='o', color=c, ls=\"none\")[0]\n",
    "handles_g = [g(\"s\", list(simp_sample_hex.values())[i]) for i in range(len(list(simp_sample_hex.values())))]\n",
    "plt.legend(handles_g, list(simp_sample_hex.keys()), bbox_to_anchor=(11.75, 0.65), loc=2, borderaxespad=0., title='Samples')\n",
    "\n",
    "#Save and show figure\n",
    "plt.savefig(\n",
    "    os.path.join(__path__, \"plots\", \"rnaseq_protein_geneset2_noREG1_2021_04_14.pdf\"),\n",
    "    dpi=300,\n",
    "    bbox_inches='tight')\n",
    "plt.show()"
   ]
  },
  {
   "cell_type": "code",
   "execution_count": null,
   "metadata": {},
   "outputs": [],
   "source": []
  },
  {
   "cell_type": "code",
   "execution_count": 43,
   "metadata": {},
   "outputs": [
    {
     "ename": "ModuleNotFoundError",
     "evalue": "No module named 'xpressplot'",
     "output_type": "error",
     "traceback": [
      "\u001b[1;31m---------------------------------------------------------------------------\u001b[0m",
      "\u001b[1;31mModuleNotFoundError\u001b[0m                       Traceback (most recent call last)",
      "\u001b[1;32m~\\AppData\\Local\\Temp/ipykernel_37512/4216570777.py\u001b[0m in \u001b[0;36m<module>\u001b[1;34m\u001b[0m\n\u001b[0;32m      4\u001b[0m \u001b[1;32mimport\u001b[0m \u001b[0mscipy\u001b[0m\u001b[1;33m\u001b[0m\u001b[1;33m\u001b[0m\u001b[0m\n\u001b[0;32m      5\u001b[0m \u001b[1;32mfrom\u001b[0m \u001b[0mstatsmodels\u001b[0m\u001b[1;33m.\u001b[0m\u001b[0mstats\u001b[0m\u001b[1;33m.\u001b[0m\u001b[0mmultitest\u001b[0m \u001b[1;32mimport\u001b[0m \u001b[0mmultipletests\u001b[0m\u001b[1;33m\u001b[0m\u001b[1;33m\u001b[0m\u001b[0m\n\u001b[1;32m----> 6\u001b[1;33m \u001b[1;32mimport\u001b[0m \u001b[0mxpressplot\u001b[0m \u001b[1;32mas\u001b[0m \u001b[0mxp\u001b[0m\u001b[1;33m\u001b[0m\u001b[1;33m\u001b[0m\u001b[0m\n\u001b[0m\u001b[0;32m      7\u001b[0m \u001b[1;32mimport\u001b[0m \u001b[0mmatplotlib\u001b[0m\u001b[1;33m\u001b[0m\u001b[1;33m\u001b[0m\u001b[0m\n\u001b[0;32m      8\u001b[0m \u001b[1;32mimport\u001b[0m \u001b[0mmatplotlib\u001b[0m\u001b[1;33m.\u001b[0m\u001b[0mpyplot\u001b[0m \u001b[1;32mas\u001b[0m \u001b[0mplt\u001b[0m\u001b[1;33m\u001b[0m\u001b[1;33m\u001b[0m\u001b[0m\n",
      "\u001b[1;31mModuleNotFoundError\u001b[0m: No module named 'xpressplot'"
     ]
    }
   ],
   "source": [
    "import os\n",
    "import pandas as pd\n",
    "import numpy as np\n",
    "import scipy\n",
    "from statsmodels.stats.multitest import multipletests\n",
    "import xpressplot as xp\n",
    "import matplotlib\n",
    "import matplotlib.pyplot as plt\n",
    "from numpy import mean, std\n",
    "from math import sqrt\n",
    "from scipy.stats import ttest_ind, sem\n",
    "import scipy.stats as st\n",
    "matplotlib.rc('font', family='arial')\n",
    "\n",
    "def mean_confidence_interval(data, confidence=0.95):\n",
    "    _interval = st.norm.interval(\n",
    "        alpha=confidence,\n",
    "        loc=np.mean(data),\n",
    "        scale=st.sem(data)\n",
    "    )\n",
    "    return np.mean(data), _interval\n",
    "\n",
    "def cohen_d(x,y):\n",
    "    return (\n",
    "        mean(x) - mean(y)) / sqrt((std(x, ddof=1) ** 2 + std(y, ddof=1) ** 2) / 2.0\n",
    "    )"
   ]
  },
  {
   "cell_type": "code",
   "execution_count": 44,
   "metadata": {},
   "outputs": [],
   "source": [
    "# WT vs SIT4"
   ]
  },
  {
   "cell_type": "code",
   "execution_count": 45,
   "metadata": {},
   "outputs": [],
   "source": [
    "deseq_output = pd.read_csv(\n",
    "    os.path.join(os.getcwd(), 'deseq_output_annotated', 'sit4_vs_WT_deseq2.tsv'),\n",
    "    sep='\\t',\n",
    "    index_col=0\n",
    ")\n",
    "\n",
    "deseq_output.index = deseq_output['common_name']\n",
    "\n",
    "de_dict = {}\n",
    "for i, r in deseq_output.iterrows():\n",
    "    fc = r['log2FoldChange']\n",
    "    p = r['pvalue']\n",
    "    pa = r['padj']\n",
    "    if pa == np.nan:\n",
    "        pa = 1\n",
    "    if pa < 1E-50:\n",
    "        pa = 1E-50\n",
    "    if p == np.nan:\n",
    "        p = 1\n",
    "    if p < 1E-50:\n",
    "        p = 1E-50\n",
    "        \n",
    "    de_dict[i] = [fc, p, pa]"
   ]
  },
  {
   "cell_type": "code",
   "execution_count": 46,
   "metadata": {},
   "outputs": [
    {
     "ename": "NameError",
     "evalue": "name 'cohen_d' is not defined",
     "output_type": "error",
     "traceback": [
      "\u001b[1;31m---------------------------------------------------------------------------\u001b[0m",
      "\u001b[1;31mNameError\u001b[0m                                 Traceback (most recent call last)",
      "\u001b[1;32m~\\AppData\\Local\\Temp/ipykernel_37512/1699415138.py\u001b[0m in \u001b[0;36m<module>\u001b[1;34m\u001b[0m\n\u001b[0;32m     27\u001b[0m \u001b[1;33m\u001b[0m\u001b[0m\n\u001b[0;32m     28\u001b[0m     data_volcano.at[i, 'Cohen\\'s $\\mathit{d}$'] = abs(\n\u001b[1;32m---> 29\u001b[1;33m         cohen_d(\n\u001b[0m\u001b[0;32m     30\u001b[0m             \u001b[0mdata_volcano\u001b[0m\u001b[1;33m[\u001b[0m\u001b[0mexp\u001b[0m\u001b[1;33m]\u001b[0m\u001b[1;33m.\u001b[0m\u001b[0mloc\u001b[0m\u001b[1;33m[\u001b[0m\u001b[0mi\u001b[0m\u001b[1;33m]\u001b[0m\u001b[1;33m.\u001b[0m\u001b[0mvalues\u001b[0m\u001b[1;33m,\u001b[0m\u001b[1;33m\u001b[0m\u001b[1;33m\u001b[0m\u001b[0m\n\u001b[0;32m     31\u001b[0m             \u001b[0mdata_volcano\u001b[0m\u001b[1;33m[\u001b[0m\u001b[0mcont\u001b[0m\u001b[1;33m]\u001b[0m\u001b[1;33m.\u001b[0m\u001b[0mloc\u001b[0m\u001b[1;33m[\u001b[0m\u001b[0mi\u001b[0m\u001b[1;33m]\u001b[0m\u001b[1;33m.\u001b[0m\u001b[0mvalues\u001b[0m\u001b[1;33m\u001b[0m\u001b[1;33m\u001b[0m\u001b[0m\n",
      "\u001b[1;31mNameError\u001b[0m: name 'cohen_d' is not defined"
     ]
    }
   ],
   "source": [
    "metadata_sit4_wt = metadata.loc[(metadata['Condition'] == 'WT') | (metadata['Condition'] == 'sit4')]\n",
    "\n",
    "exp = [\n",
    "    '18607X7', #'sit4_1',\n",
    "    '18607X8', #'sit4_1',\n",
    "    '18607X9', #'sit4_3'\n",
    "]\n",
    "\n",
    "cont = [\n",
    "    '18607X1', #'WT_1',\n",
    "    '18607X2', #'WT_2',\n",
    "    '18607X3', #'WT_3'\n",
    "]\n",
    "\n",
    "data_volcano = rnaseq_tpm_named.copy()\n",
    "data_volcano.index = data_volcano['common_name']\n",
    "data_volcano.index.name = None\n",
    "\n",
    "for i, r in data_volcano.iterrows():\n",
    "    \n",
    "    data_volcano.at[i, 'log$_2$(Fold Change)'] = de_dict[i][0]\n",
    "    data_volcano.at[i, 'pval'] = de_dict[i][1]\n",
    "    data_volcano.at[i, 'FDR'] = de_dict[i][2]\n",
    "    data_volcano.at[i, '-log$_1$$_0$(p-value)'] = -1 * np.log10(data_volcano.at[i, 'pval'])\n",
    "    data_volcano.at[i, '-log$_1$$_0$(FDR)'] = -1 * np.log10(data_volcano.at[i, 'FDR'])\n",
    "    \n",
    "    \n",
    "    data_volcano.at[i, 'Cohen\\'s $\\mathit{d}$'] = abs(\n",
    "        cohen_d(\n",
    "            data_volcano[exp].loc[i].values,\n",
    "            data_volcano[cont].loc[i].values\n",
    "        )\n",
    "    )\n",
    "\n",
    "    s1, s2 = mean_confidence_interval(\n",
    "        data_volcano[exp].loc[i].values.tolist(),\n",
    "        confidence=0.95)\n",
    "    data_volcano.at[i, 'exp_mean'] = s1\n",
    "    data_volcano.at[i, 'exp_ci95'] = str(s2)\n",
    "\n",
    "    s1, s2 = mean_confidence_interval(\n",
    "        data_volcano[cont].loc[i].values.tolist(),\n",
    "        confidence=0.95)\n",
    "    data_volcano.at[i, 'cont_mean'] = s1\n",
    "    data_volcano.at[i, 'cont_ci95'] = str(s2)"
   ]
  },
  {
   "cell_type": "code",
   "execution_count": null,
   "metadata": {},
   "outputs": [],
   "source": [
    "data_volcano.to_csv(\n",
    "    os.path.join(os.getcwd(), \"output_tables\", \"volcano_data.txt\"),\n",
    "    sep='\\t'\n",
    ")"
   ]
  },
  {
   "cell_type": "code",
   "execution_count": 47,
   "metadata": {},
   "outputs": [],
   "source": [
    "data_volcano_select1 = data_volcano.loc[gene_list_1]\n",
    "data_volcano_select2 = data_volcano.loc[gene_list_2]"
   ]
  },
  {
   "cell_type": "code",
   "execution_count": 48,
   "metadata": {},
   "outputs": [
    {
     "ename": "KeyError",
     "evalue": "\"Cohen's $\\\\mathit{d}$\"",
     "output_type": "error",
     "traceback": [
      "\u001b[1;31m---------------------------------------------------------------------------\u001b[0m",
      "\u001b[1;31mKeyError\u001b[0m                                  Traceback (most recent call last)",
      "\u001b[1;32m~\\miniconda3\\lib\\site-packages\\pandas\\core\\indexes\\base.py\u001b[0m in \u001b[0;36mget_loc\u001b[1;34m(self, key, method, tolerance)\u001b[0m\n\u001b[0;32m   3360\u001b[0m             \u001b[1;32mtry\u001b[0m\u001b[1;33m:\u001b[0m\u001b[1;33m\u001b[0m\u001b[1;33m\u001b[0m\u001b[0m\n\u001b[1;32m-> 3361\u001b[1;33m                 \u001b[1;32mreturn\u001b[0m \u001b[0mself\u001b[0m\u001b[1;33m.\u001b[0m\u001b[0m_engine\u001b[0m\u001b[1;33m.\u001b[0m\u001b[0mget_loc\u001b[0m\u001b[1;33m(\u001b[0m\u001b[0mcasted_key\u001b[0m\u001b[1;33m)\u001b[0m\u001b[1;33m\u001b[0m\u001b[1;33m\u001b[0m\u001b[0m\n\u001b[0m\u001b[0;32m   3362\u001b[0m             \u001b[1;32mexcept\u001b[0m \u001b[0mKeyError\u001b[0m \u001b[1;32mas\u001b[0m \u001b[0merr\u001b[0m\u001b[1;33m:\u001b[0m\u001b[1;33m\u001b[0m\u001b[1;33m\u001b[0m\u001b[0m\n",
      "\u001b[1;32m~\\miniconda3\\lib\\site-packages\\pandas\\_libs\\index.pyx\u001b[0m in \u001b[0;36mpandas._libs.index.IndexEngine.get_loc\u001b[1;34m()\u001b[0m\n",
      "\u001b[1;32m~\\miniconda3\\lib\\site-packages\\pandas\\_libs\\index.pyx\u001b[0m in \u001b[0;36mpandas._libs.index.IndexEngine.get_loc\u001b[1;34m()\u001b[0m\n",
      "\u001b[1;32mpandas\\_libs\\hashtable_class_helper.pxi\u001b[0m in \u001b[0;36mpandas._libs.hashtable.PyObjectHashTable.get_item\u001b[1;34m()\u001b[0m\n",
      "\u001b[1;32mpandas\\_libs\\hashtable_class_helper.pxi\u001b[0m in \u001b[0;36mpandas._libs.hashtable.PyObjectHashTable.get_item\u001b[1;34m()\u001b[0m\n",
      "\u001b[1;31mKeyError\u001b[0m: \"Cohen's $\\\\mathit{d}$\"",
      "\nThe above exception was the direct cause of the following exception:\n",
      "\u001b[1;31mKeyError\u001b[0m                                  Traceback (most recent call last)",
      "\u001b[1;32m~\\AppData\\Local\\Temp/ipykernel_37512/1866929462.py\u001b[0m in \u001b[0;36m<module>\u001b[1;34m\u001b[0m\n\u001b[0;32m      5\u001b[0m     \u001b[0mc\u001b[0m\u001b[1;33m=\u001b[0m\u001b[1;34m'black'\u001b[0m\u001b[1;33m,\u001b[0m\u001b[1;33m\u001b[0m\u001b[1;33m\u001b[0m\u001b[0m\n\u001b[0;32m      6\u001b[0m     \u001b[0medgecolors\u001b[0m\u001b[1;33m=\u001b[0m\u001b[1;34m'none'\u001b[0m\u001b[1;33m,\u001b[0m\u001b[1;33m\u001b[0m\u001b[1;33m\u001b[0m\u001b[0m\n\u001b[1;32m----> 7\u001b[1;33m     \u001b[0ms\u001b[0m\u001b[1;33m=\u001b[0m\u001b[0mdata_volcano\u001b[0m\u001b[1;33m[\u001b[0m\u001b[1;34m'Cohen\\'s $\\mathit{d}$'\u001b[0m\u001b[1;33m]\u001b[0m \u001b[1;33m*\u001b[0m \u001b[1;36m10\u001b[0m\u001b[1;33m,\u001b[0m\u001b[1;33m\u001b[0m\u001b[1;33m\u001b[0m\u001b[0m\n\u001b[0m\u001b[0;32m      8\u001b[0m     \u001b[0malpha\u001b[0m\u001b[1;33m=\u001b[0m\u001b[1;36m0.3\u001b[0m\u001b[1;33m,\u001b[0m\u001b[1;33m\u001b[0m\u001b[1;33m\u001b[0m\u001b[0m\n\u001b[0;32m      9\u001b[0m     \u001b[0mgrid\u001b[0m\u001b[1;33m=\u001b[0m\u001b[1;32mFalse\u001b[0m\u001b[1;33m,\u001b[0m\u001b[1;33m\u001b[0m\u001b[1;33m\u001b[0m\u001b[0m\n",
      "\u001b[1;32m~\\miniconda3\\lib\\site-packages\\pandas\\core\\frame.py\u001b[0m in \u001b[0;36m__getitem__\u001b[1;34m(self, key)\u001b[0m\n\u001b[0;32m   3456\u001b[0m             \u001b[1;32mif\u001b[0m \u001b[0mself\u001b[0m\u001b[1;33m.\u001b[0m\u001b[0mcolumns\u001b[0m\u001b[1;33m.\u001b[0m\u001b[0mnlevels\u001b[0m \u001b[1;33m>\u001b[0m \u001b[1;36m1\u001b[0m\u001b[1;33m:\u001b[0m\u001b[1;33m\u001b[0m\u001b[1;33m\u001b[0m\u001b[0m\n\u001b[0;32m   3457\u001b[0m                 \u001b[1;32mreturn\u001b[0m \u001b[0mself\u001b[0m\u001b[1;33m.\u001b[0m\u001b[0m_getitem_multilevel\u001b[0m\u001b[1;33m(\u001b[0m\u001b[0mkey\u001b[0m\u001b[1;33m)\u001b[0m\u001b[1;33m\u001b[0m\u001b[1;33m\u001b[0m\u001b[0m\n\u001b[1;32m-> 3458\u001b[1;33m             \u001b[0mindexer\u001b[0m \u001b[1;33m=\u001b[0m \u001b[0mself\u001b[0m\u001b[1;33m.\u001b[0m\u001b[0mcolumns\u001b[0m\u001b[1;33m.\u001b[0m\u001b[0mget_loc\u001b[0m\u001b[1;33m(\u001b[0m\u001b[0mkey\u001b[0m\u001b[1;33m)\u001b[0m\u001b[1;33m\u001b[0m\u001b[1;33m\u001b[0m\u001b[0m\n\u001b[0m\u001b[0;32m   3459\u001b[0m             \u001b[1;32mif\u001b[0m \u001b[0mis_integer\u001b[0m\u001b[1;33m(\u001b[0m\u001b[0mindexer\u001b[0m\u001b[1;33m)\u001b[0m\u001b[1;33m:\u001b[0m\u001b[1;33m\u001b[0m\u001b[1;33m\u001b[0m\u001b[0m\n\u001b[0;32m   3460\u001b[0m                 \u001b[0mindexer\u001b[0m \u001b[1;33m=\u001b[0m \u001b[1;33m[\u001b[0m\u001b[0mindexer\u001b[0m\u001b[1;33m]\u001b[0m\u001b[1;33m\u001b[0m\u001b[1;33m\u001b[0m\u001b[0m\n",
      "\u001b[1;32m~\\miniconda3\\lib\\site-packages\\pandas\\core\\indexes\\base.py\u001b[0m in \u001b[0;36mget_loc\u001b[1;34m(self, key, method, tolerance)\u001b[0m\n\u001b[0;32m   3361\u001b[0m                 \u001b[1;32mreturn\u001b[0m \u001b[0mself\u001b[0m\u001b[1;33m.\u001b[0m\u001b[0m_engine\u001b[0m\u001b[1;33m.\u001b[0m\u001b[0mget_loc\u001b[0m\u001b[1;33m(\u001b[0m\u001b[0mcasted_key\u001b[0m\u001b[1;33m)\u001b[0m\u001b[1;33m\u001b[0m\u001b[1;33m\u001b[0m\u001b[0m\n\u001b[0;32m   3362\u001b[0m             \u001b[1;32mexcept\u001b[0m \u001b[0mKeyError\u001b[0m \u001b[1;32mas\u001b[0m \u001b[0merr\u001b[0m\u001b[1;33m:\u001b[0m\u001b[1;33m\u001b[0m\u001b[1;33m\u001b[0m\u001b[0m\n\u001b[1;32m-> 3363\u001b[1;33m                 \u001b[1;32mraise\u001b[0m \u001b[0mKeyError\u001b[0m\u001b[1;33m(\u001b[0m\u001b[0mkey\u001b[0m\u001b[1;33m)\u001b[0m \u001b[1;32mfrom\u001b[0m \u001b[0merr\u001b[0m\u001b[1;33m\u001b[0m\u001b[1;33m\u001b[0m\u001b[0m\n\u001b[0m\u001b[0;32m   3364\u001b[0m \u001b[1;33m\u001b[0m\u001b[0m\n\u001b[0;32m   3365\u001b[0m         \u001b[1;32mif\u001b[0m \u001b[0mis_scalar\u001b[0m\u001b[1;33m(\u001b[0m\u001b[0mkey\u001b[0m\u001b[1;33m)\u001b[0m \u001b[1;32mand\u001b[0m \u001b[0misna\u001b[0m\u001b[1;33m(\u001b[0m\u001b[0mkey\u001b[0m\u001b[1;33m)\u001b[0m \u001b[1;32mand\u001b[0m \u001b[1;32mnot\u001b[0m \u001b[0mself\u001b[0m\u001b[1;33m.\u001b[0m\u001b[0mhasnans\u001b[0m\u001b[1;33m:\u001b[0m\u001b[1;33m\u001b[0m\u001b[1;33m\u001b[0m\u001b[0m\n",
      "\u001b[1;31mKeyError\u001b[0m: \"Cohen's $\\\\mathit{d}$\""
     ]
    },
    {
     "data": {
      "image/png": "[encoded data removed]",
      "text/plain": [
       "<Figure size 432x288 with 1 Axes>"
      ]
     },
     "metadata": {},
     "output_type": "display_data"
    }
   ],
   "source": [
    "ax = plt.gca()\n",
    "ax.set_facecolor('w')\n",
    "data_volcano.plot.scatter(\n",
    "    'log$_2$(Fold Change)', '-log$_1$$_0$(FDR)',\n",
    "    c='black',\n",
    "    edgecolors='none',\n",
    "    s=data_volcano['Cohen\\'s $\\mathit{d}$'] * 10,\n",
    "    alpha=0.3,\n",
    "    grid=False,\n",
    "    ax=ax)\n",
    "data_volcano_select1.plot.scatter(\n",
    "    'log$_2$(Fold Change)', '-log$_1$$_0$(FDR)',\n",
    "    c='red',\n",
    "    edgecolors='black',\n",
    "    s=data_volcano_select1['Cohen\\'s $\\mathit{d}$'] * 10,\n",
    "    alpha=1,\n",
    "    grid=False,\n",
    "    ax=ax)\n",
    "\n",
    "l_box = matplotlib.patches.Rectangle((1,2), 4.75, 48, alpha=0.3, color=\"lightgrey\", zorder=-10)\n",
    "r_box = matplotlib.patches.Rectangle((-3,2), 2, 48, alpha=0.3, color=\"lightgrey\", zorder=-10)\n",
    "ax.add_patch(l_box)\n",
    "ax.add_patch(r_box)\n",
    "ax.axhline(2, ls='--', color=\"grey\")\n",
    "ax.axvline(-1, ls='--', color=\"grey\")\n",
    "ax.axvline(1, ls='--', color=\"grey\")\n",
    "# Save and show figure\n",
    "plt.savefig(\n",
    "    os.path.join(os.getcwd(), \"plots\", \"volcano_plot_geneset1.pdf\"),\n",
    "    bbox_inches='tight'\n",
    ")"
   ]
  },
  {
   "cell_type": "code",
   "execution_count": 49,
   "metadata": {},
   "outputs": [
    {
     "ename": "KeyError",
     "evalue": "\"Cohen's $\\\\mathit{d}$\"",
     "output_type": "error",
     "traceback": [
      "\u001b[1;31m---------------------------------------------------------------------------\u001b[0m",
      "\u001b[1;31mKeyError\u001b[0m                                  Traceback (most recent call last)",
      "\u001b[1;32m~\\miniconda3\\lib\\site-packages\\pandas\\core\\indexes\\base.py\u001b[0m in \u001b[0;36mget_loc\u001b[1;34m(self, key, method, tolerance)\u001b[0m\n\u001b[0;32m   3360\u001b[0m             \u001b[1;32mtry\u001b[0m\u001b[1;33m:\u001b[0m\u001b[1;33m\u001b[0m\u001b[1;33m\u001b[0m\u001b[0m\n\u001b[1;32m-> 3361\u001b[1;33m                 \u001b[1;32mreturn\u001b[0m \u001b[0mself\u001b[0m\u001b[1;33m.\u001b[0m\u001b[0m_engine\u001b[0m\u001b[1;33m.\u001b[0m\u001b[0mget_loc\u001b[0m\u001b[1;33m(\u001b[0m\u001b[0mcasted_key\u001b[0m\u001b[1;33m)\u001b[0m\u001b[1;33m\u001b[0m\u001b[1;33m\u001b[0m\u001b[0m\n\u001b[0m\u001b[0;32m   3362\u001b[0m             \u001b[1;32mexcept\u001b[0m \u001b[0mKeyError\u001b[0m \u001b[1;32mas\u001b[0m \u001b[0merr\u001b[0m\u001b[1;33m:\u001b[0m\u001b[1;33m\u001b[0m\u001b[1;33m\u001b[0m\u001b[0m\n",
      "\u001b[1;32m~\\miniconda3\\lib\\site-packages\\pandas\\_libs\\index.pyx\u001b[0m in \u001b[0;36mpandas._libs.index.IndexEngine.get_loc\u001b[1;34m()\u001b[0m\n",
      "\u001b[1;32m~\\miniconda3\\lib\\site-packages\\pandas\\_libs\\index.pyx\u001b[0m in \u001b[0;36mpandas._libs.index.IndexEngine.get_loc\u001b[1;34m()\u001b[0m\n",
      "\u001b[1;32mpandas\\_libs\\hashtable_class_helper.pxi\u001b[0m in \u001b[0;36mpandas._libs.hashtable.PyObjectHashTable.get_item\u001b[1;34m()\u001b[0m\n",
      "\u001b[1;32mpandas\\_libs\\hashtable_class_helper.pxi\u001b[0m in \u001b[0;36mpandas._libs.hashtable.PyObjectHashTable.get_item\u001b[1;34m()\u001b[0m\n",
      "\u001b[1;31mKeyError\u001b[0m: \"Cohen's $\\\\mathit{d}$\"",
      "\nThe above exception was the direct cause of the following exception:\n",
      "\u001b[1;31mKeyError\u001b[0m                                  Traceback (most recent call last)",
      "\u001b[1;32m~\\AppData\\Local\\Temp/ipykernel_37512/2719405429.py\u001b[0m in \u001b[0;36m<module>\u001b[1;34m\u001b[0m\n\u001b[0;32m      5\u001b[0m     \u001b[0mc\u001b[0m\u001b[1;33m=\u001b[0m\u001b[1;34m'black'\u001b[0m\u001b[1;33m,\u001b[0m\u001b[1;33m\u001b[0m\u001b[1;33m\u001b[0m\u001b[0m\n\u001b[0;32m      6\u001b[0m     \u001b[0medgecolors\u001b[0m\u001b[1;33m=\u001b[0m\u001b[1;34m'none'\u001b[0m\u001b[1;33m,\u001b[0m\u001b[1;33m\u001b[0m\u001b[1;33m\u001b[0m\u001b[0m\n\u001b[1;32m----> 7\u001b[1;33m     \u001b[0ms\u001b[0m\u001b[1;33m=\u001b[0m\u001b[0mdata_volcano\u001b[0m\u001b[1;33m[\u001b[0m\u001b[1;34m'Cohen\\'s $\\mathit{d}$'\u001b[0m\u001b[1;33m]\u001b[0m \u001b[1;33m*\u001b[0m \u001b[1;36m10\u001b[0m\u001b[1;33m,\u001b[0m\u001b[1;33m\u001b[0m\u001b[1;33m\u001b[0m\u001b[0m\n\u001b[0m\u001b[0;32m      8\u001b[0m     \u001b[0malpha\u001b[0m\u001b[1;33m=\u001b[0m\u001b[1;36m0.2\u001b[0m\u001b[1;33m,\u001b[0m\u001b[1;33m\u001b[0m\u001b[1;33m\u001b[0m\u001b[0m\n\u001b[0;32m      9\u001b[0m     \u001b[0mgrid\u001b[0m\u001b[1;33m=\u001b[0m\u001b[1;32mFalse\u001b[0m\u001b[1;33m,\u001b[0m\u001b[1;33m\u001b[0m\u001b[1;33m\u001b[0m\u001b[0m\n",
      "\u001b[1;32m~\\miniconda3\\lib\\site-packages\\pandas\\core\\frame.py\u001b[0m in \u001b[0;36m__getitem__\u001b[1;34m(self, key)\u001b[0m\n\u001b[0;32m   3456\u001b[0m             \u001b[1;32mif\u001b[0m \u001b[0mself\u001b[0m\u001b[1;33m.\u001b[0m\u001b[0mcolumns\u001b[0m\u001b[1;33m.\u001b[0m\u001b[0mnlevels\u001b[0m \u001b[1;33m>\u001b[0m \u001b[1;36m1\u001b[0m\u001b[1;33m:\u001b[0m\u001b[1;33m\u001b[0m\u001b[1;33m\u001b[0m\u001b[0m\n\u001b[0;32m   3457\u001b[0m                 \u001b[1;32mreturn\u001b[0m \u001b[0mself\u001b[0m\u001b[1;33m.\u001b[0m\u001b[0m_getitem_multilevel\u001b[0m\u001b[1;33m(\u001b[0m\u001b[0mkey\u001b[0m\u001b[1;33m)\u001b[0m\u001b[1;33m\u001b[0m\u001b[1;33m\u001b[0m\u001b[0m\n\u001b[1;32m-> 3458\u001b[1;33m             \u001b[0mindexer\u001b[0m \u001b[1;33m=\u001b[0m \u001b[0mself\u001b[0m\u001b[1;33m.\u001b[0m\u001b[0mcolumns\u001b[0m\u001b[1;33m.\u001b[0m\u001b[0mget_loc\u001b[0m\u001b[1;33m(\u001b[0m\u001b[0mkey\u001b[0m\u001b[1;33m)\u001b[0m\u001b[1;33m\u001b[0m\u001b[1;33m\u001b[0m\u001b[0m\n\u001b[0m\u001b[0;32m   3459\u001b[0m             \u001b[1;32mif\u001b[0m \u001b[0mis_integer\u001b[0m\u001b[1;33m(\u001b[0m\u001b[0mindexer\u001b[0m\u001b[1;33m)\u001b[0m\u001b[1;33m:\u001b[0m\u001b[1;33m\u001b[0m\u001b[1;33m\u001b[0m\u001b[0m\n\u001b[0;32m   3460\u001b[0m                 \u001b[0mindexer\u001b[0m \u001b[1;33m=\u001b[0m \u001b[1;33m[\u001b[0m\u001b[0mindexer\u001b[0m\u001b[1;33m]\u001b[0m\u001b[1;33m\u001b[0m\u001b[1;33m\u001b[0m\u001b[0m\n",
      "\u001b[1;32m~\\miniconda3\\lib\\site-packages\\pandas\\core\\indexes\\base.py\u001b[0m in \u001b[0;36mget_loc\u001b[1;34m(self, key, method, tolerance)\u001b[0m\n\u001b[0;32m   3361\u001b[0m                 \u001b[1;32mreturn\u001b[0m \u001b[0mself\u001b[0m\u001b[1;33m.\u001b[0m\u001b[0m_engine\u001b[0m\u001b[1;33m.\u001b[0m\u001b[0mget_loc\u001b[0m\u001b[1;33m(\u001b[0m\u001b[0mcasted_key\u001b[0m\u001b[1;33m)\u001b[0m\u001b[1;33m\u001b[0m\u001b[1;33m\u001b[0m\u001b[0m\n\u001b[0;32m   3362\u001b[0m             \u001b[1;32mexcept\u001b[0m \u001b[0mKeyError\u001b[0m \u001b[1;32mas\u001b[0m \u001b[0merr\u001b[0m\u001b[1;33m:\u001b[0m\u001b[1;33m\u001b[0m\u001b[1;33m\u001b[0m\u001b[0m\n\u001b[1;32m-> 3363\u001b[1;33m                 \u001b[1;32mraise\u001b[0m \u001b[0mKeyError\u001b[0m\u001b[1;33m(\u001b[0m\u001b[0mkey\u001b[0m\u001b[1;33m)\u001b[0m \u001b[1;32mfrom\u001b[0m \u001b[0merr\u001b[0m\u001b[1;33m\u001b[0m\u001b[1;33m\u001b[0m\u001b[0m\n\u001b[0m\u001b[0;32m   3364\u001b[0m \u001b[1;33m\u001b[0m\u001b[0m\n\u001b[0;32m   3365\u001b[0m         \u001b[1;32mif\u001b[0m \u001b[0mis_scalar\u001b[0m\u001b[1;33m(\u001b[0m\u001b[0mkey\u001b[0m\u001b[1;33m)\u001b[0m \u001b[1;32mand\u001b[0m \u001b[0misna\u001b[0m\u001b[1;33m(\u001b[0m\u001b[0mkey\u001b[0m\u001b[1;33m)\u001b[0m \u001b[1;32mand\u001b[0m \u001b[1;32mnot\u001b[0m \u001b[0mself\u001b[0m\u001b[1;33m.\u001b[0m\u001b[0mhasnans\u001b[0m\u001b[1;33m:\u001b[0m\u001b[1;33m\u001b[0m\u001b[1;33m\u001b[0m\u001b[0m\n",
      "\u001b[1;31mKeyError\u001b[0m: \"Cohen's $\\\\mathit{d}$\""
     ]
    },
    {
     "data": {
      "image/png": "[encoded data removed]",
      "text/plain": [
       "<Figure size 432x288 with 1 Axes>"
      ]
     },
     "metadata": {},
     "output_type": "display_data"
    }
   ],
   "source": [
    "ax = plt.gca()\n",
    "ax.set_facecolor('w')\n",
    "data_volcano.plot.scatter(\n",
    "    'log$_2$(Fold Change)', '-log$_1$$_0$(FDR)',\n",
    "    c='black',\n",
    "    edgecolors='none',\n",
    "    s=data_volcano['Cohen\\'s $\\mathit{d}$'] * 10,\n",
    "    alpha=0.2,\n",
    "    grid=False,\n",
    "    ax=ax)\n",
    "data_volcano_select2.plot.scatter(\n",
    "    'log$_2$(Fold Change)', '-log$_1$$_0$(FDR)',\n",
    "    c='cyan',\n",
    "    edgecolors='black',\n",
    "    s=data_volcano_select2['Cohen\\'s $\\mathit{d}$'] * 10,\n",
    "    alpha=1,\n",
    "    grid=False,\n",
    "    ax=ax)\n",
    "l_box = matplotlib.patches.Rectangle((1,2), 4.75, 48, alpha=0.3, color=\"lightgrey\", zorder=-10)\n",
    "r_box = matplotlib.patches.Rectangle((-3,2), 2, 48, alpha=0.3, color=\"lightgrey\", zorder=-10)\n",
    "ax.add_patch(l_box)\n",
    "ax.add_patch(r_box)\n",
    "ax.axhline(2, ls='--', color=\"grey\")\n",
    "ax.axvline(-1, ls='--', color=\"grey\")\n",
    "ax.axvline(1, ls='--', color=\"grey\")\n",
    "\n",
    "# Save and show figure\n",
    "plt.savefig(\n",
    "    os.path.join(os.getcwd(), \"plots\", \"volcano_plot_geneset2.pdf\"),\n",
    "    bbox_inches='tight'\n",
    ")"
   ]
  },
  {
   "cell_type": "code",
   "execution_count": 50,
   "metadata": {},
   "outputs": [
    {
     "data": {
      "image/png": "[encoded data removed]",
      "text/plain": [
       "<Figure size 432x288 with 1 Axes>"
      ]
     },
     "metadata": {},
     "output_type": "display_data"
    }
   ],
   "source": [
    "g1 = plt.scatter([],[], s=10, marker='o', color='black')\n",
    "g2 = plt.scatter([],[], s=20, marker='o', color='black')\n",
    "g3 = plt.scatter([],[], s=50, marker='o', color='black')\n",
    "plt.legend(\n",
    "    (g1, g2, g3),\n",
    "    ['1', '2', '5'],\n",
    "    bbox_to_anchor=(0, 0),\n",
    "    loc=1, borderaxespad=1,\n",
    "    title='Cohen\\'s $\\mathit{d}$')\n",
    "plt.savefig(\n",
    "    os.path.join(os.getcwd(), \"plots\", \"volcano_plot_legend.pdf\"),\n",
    "    bbox_inches='tight'\n",
    ")"
   ]
  },
  {
   "cell_type": "code",
   "execution_count": 51,
   "metadata": {},
   "outputs": [
    {
     "ename": "KeyError",
     "evalue": "\"Cohen's $\\\\mathit{d}$\"",
     "output_type": "error",
     "traceback": [
      "\u001b[1;31m---------------------------------------------------------------------------\u001b[0m",
      "\u001b[1;31mKeyError\u001b[0m                                  Traceback (most recent call last)",
      "\u001b[1;32m~\\miniconda3\\lib\\site-packages\\pandas\\core\\indexes\\base.py\u001b[0m in \u001b[0;36mget_loc\u001b[1;34m(self, key, method, tolerance)\u001b[0m\n\u001b[0;32m   3360\u001b[0m             \u001b[1;32mtry\u001b[0m\u001b[1;33m:\u001b[0m\u001b[1;33m\u001b[0m\u001b[1;33m\u001b[0m\u001b[0m\n\u001b[1;32m-> 3361\u001b[1;33m                 \u001b[1;32mreturn\u001b[0m \u001b[0mself\u001b[0m\u001b[1;33m.\u001b[0m\u001b[0m_engine\u001b[0m\u001b[1;33m.\u001b[0m\u001b[0mget_loc\u001b[0m\u001b[1;33m(\u001b[0m\u001b[0mcasted_key\u001b[0m\u001b[1;33m)\u001b[0m\u001b[1;33m\u001b[0m\u001b[1;33m\u001b[0m\u001b[0m\n\u001b[0m\u001b[0;32m   3362\u001b[0m             \u001b[1;32mexcept\u001b[0m \u001b[0mKeyError\u001b[0m \u001b[1;32mas\u001b[0m \u001b[0merr\u001b[0m\u001b[1;33m:\u001b[0m\u001b[1;33m\u001b[0m\u001b[1;33m\u001b[0m\u001b[0m\n",
      "\u001b[1;32m~\\miniconda3\\lib\\site-packages\\pandas\\_libs\\index.pyx\u001b[0m in \u001b[0;36mpandas._libs.index.IndexEngine.get_loc\u001b[1;34m()\u001b[0m\n",
      "\u001b[1;32m~\\miniconda3\\lib\\site-packages\\pandas\\_libs\\index.pyx\u001b[0m in \u001b[0;36mpandas._libs.index.IndexEngine.get_loc\u001b[1;34m()\u001b[0m\n",
      "\u001b[1;32mpandas\\_libs\\hashtable_class_helper.pxi\u001b[0m in \u001b[0;36mpandas._libs.hashtable.PyObjectHashTable.get_item\u001b[1;34m()\u001b[0m\n",
      "\u001b[1;32mpandas\\_libs\\hashtable_class_helper.pxi\u001b[0m in \u001b[0;36mpandas._libs.hashtable.PyObjectHashTable.get_item\u001b[1;34m()\u001b[0m\n",
      "\u001b[1;31mKeyError\u001b[0m: \"Cohen's $\\\\mathit{d}$\"",
      "\nThe above exception was the direct cause of the following exception:\n",
      "\u001b[1;31mKeyError\u001b[0m                                  Traceback (most recent call last)",
      "\u001b[1;32m~\\AppData\\Local\\Temp/ipykernel_37512/573742131.py\u001b[0m in \u001b[0;36m<module>\u001b[1;34m\u001b[0m\n\u001b[1;32m----> 1\u001b[1;33m \u001b[0mdata_volcano\u001b[0m\u001b[1;33m[\u001b[0m\u001b[1;34m'Cohen\\'s $\\mathit{d}$'\u001b[0m\u001b[1;33m]\u001b[0m\u001b[1;33m.\u001b[0m\u001b[0mhist\u001b[0m\u001b[1;33m(\u001b[0m\u001b[0mbins\u001b[0m\u001b[1;33m=\u001b[0m\u001b[1;36m100\u001b[0m\u001b[1;33m)\u001b[0m\u001b[1;33m\u001b[0m\u001b[1;33m\u001b[0m\u001b[0m\n\u001b[0m",
      "\u001b[1;32m~\\miniconda3\\lib\\site-packages\\pandas\\core\\frame.py\u001b[0m in \u001b[0;36m__getitem__\u001b[1;34m(self, key)\u001b[0m\n\u001b[0;32m   3456\u001b[0m             \u001b[1;32mif\u001b[0m \u001b[0mself\u001b[0m\u001b[1;33m.\u001b[0m\u001b[0mcolumns\u001b[0m\u001b[1;33m.\u001b[0m\u001b[0mnlevels\u001b[0m \u001b[1;33m>\u001b[0m \u001b[1;36m1\u001b[0m\u001b[1;33m:\u001b[0m\u001b[1;33m\u001b[0m\u001b[1;33m\u001b[0m\u001b[0m\n\u001b[0;32m   3457\u001b[0m                 \u001b[1;32mreturn\u001b[0m \u001b[0mself\u001b[0m\u001b[1;33m.\u001b[0m\u001b[0m_getitem_multilevel\u001b[0m\u001b[1;33m(\u001b[0m\u001b[0mkey\u001b[0m\u001b[1;33m)\u001b[0m\u001b[1;33m\u001b[0m\u001b[1;33m\u001b[0m\u001b[0m\n\u001b[1;32m-> 3458\u001b[1;33m             \u001b[0mindexer\u001b[0m \u001b[1;33m=\u001b[0m \u001b[0mself\u001b[0m\u001b[1;33m.\u001b[0m\u001b[0mcolumns\u001b[0m\u001b[1;33m.\u001b[0m\u001b[0mget_loc\u001b[0m\u001b[1;33m(\u001b[0m\u001b[0mkey\u001b[0m\u001b[1;33m)\u001b[0m\u001b[1;33m\u001b[0m\u001b[1;33m\u001b[0m\u001b[0m\n\u001b[0m\u001b[0;32m   3459\u001b[0m             \u001b[1;32mif\u001b[0m \u001b[0mis_integer\u001b[0m\u001b[1;33m(\u001b[0m\u001b[0mindexer\u001b[0m\u001b[1;33m)\u001b[0m\u001b[1;33m:\u001b[0m\u001b[1;33m\u001b[0m\u001b[1;33m\u001b[0m\u001b[0m\n\u001b[0;32m   3460\u001b[0m                 \u001b[0mindexer\u001b[0m \u001b[1;33m=\u001b[0m \u001b[1;33m[\u001b[0m\u001b[0mindexer\u001b[0m\u001b[1;33m]\u001b[0m\u001b[1;33m\u001b[0m\u001b[1;33m\u001b[0m\u001b[0m\n",
      "\u001b[1;32m~\\miniconda3\\lib\\site-packages\\pandas\\core\\indexes\\base.py\u001b[0m in \u001b[0;36mget_loc\u001b[1;34m(self, key, method, tolerance)\u001b[0m\n\u001b[0;32m   3361\u001b[0m                 \u001b[1;32mreturn\u001b[0m \u001b[0mself\u001b[0m\u001b[1;33m.\u001b[0m\u001b[0m_engine\u001b[0m\u001b[1;33m.\u001b[0m\u001b[0mget_loc\u001b[0m\u001b[1;33m(\u001b[0m\u001b[0mcasted_key\u001b[0m\u001b[1;33m)\u001b[0m\u001b[1;33m\u001b[0m\u001b[1;33m\u001b[0m\u001b[0m\n\u001b[0;32m   3362\u001b[0m             \u001b[1;32mexcept\u001b[0m \u001b[0mKeyError\u001b[0m \u001b[1;32mas\u001b[0m \u001b[0merr\u001b[0m\u001b[1;33m:\u001b[0m\u001b[1;33m\u001b[0m\u001b[1;33m\u001b[0m\u001b[0m\n\u001b[1;32m-> 3363\u001b[1;33m                 \u001b[1;32mraise\u001b[0m \u001b[0mKeyError\u001b[0m\u001b[1;33m(\u001b[0m\u001b[0mkey\u001b[0m\u001b[1;33m)\u001b[0m \u001b[1;32mfrom\u001b[0m \u001b[0merr\u001b[0m\u001b[1;33m\u001b[0m\u001b[1;33m\u001b[0m\u001b[0m\n\u001b[0m\u001b[0;32m   3364\u001b[0m \u001b[1;33m\u001b[0m\u001b[0m\n\u001b[0;32m   3365\u001b[0m         \u001b[1;32mif\u001b[0m \u001b[0mis_scalar\u001b[0m\u001b[1;33m(\u001b[0m\u001b[0mkey\u001b[0m\u001b[1;33m)\u001b[0m \u001b[1;32mand\u001b[0m \u001b[0misna\u001b[0m\u001b[1;33m(\u001b[0m\u001b[0mkey\u001b[0m\u001b[1;33m)\u001b[0m \u001b[1;32mand\u001b[0m \u001b[1;32mnot\u001b[0m \u001b[0mself\u001b[0m\u001b[1;33m.\u001b[0m\u001b[0mhasnans\u001b[0m\u001b[1;33m:\u001b[0m\u001b[1;33m\u001b[0m\u001b[1;33m\u001b[0m\u001b[0m\n",
      "\u001b[1;31mKeyError\u001b[0m: \"Cohen's $\\\\mathit{d}$\""
     ]
    }
   ],
   "source": [
    "data_volcano['Cohen\\'s $\\mathit{d}$'].hist(bins=100)"
   ]
  },
  {
   "cell_type": "code",
   "execution_count": null,
   "metadata": {},
   "outputs": [],
   "source": []
  },
  {
   "cell_type": "code",
   "execution_count": null,
   "metadata": {},
   "outputs": [],
   "source": []
  },
  {
   "cell_type": "code",
   "execution_count": null,
   "metadata": {},
   "outputs": [],
   "source": []
  },
  {
   "cell_type": "code",
   "execution_count": null,
   "metadata": {},
   "outputs": [],
   "source": [
    "exp = [\n",
    "    '18607X7', #'sit4_1',\n",
    "    '18607X8', #'sit4_1',\n",
    "    '18607X9', #'sit4_3'\n",
    "]\n",
    "\n",
    "cont = [\n",
    "    '18607X1', #'WT_1',\n",
    "    '18607X2', #'WT_2',\n",
    "    '18607X3', #'WT_3'\n",
    "]"
   ]
  },
  {
   "cell_type": "code",
   "execution_count": 54,
   "metadata": {},
   "outputs": [],
   "source": [
    "my_genes = rnaseq_tpm_named.loc[rnaseq_tpm_named[\"common_name\"].isin([\"PHO84\", \"SPL2\"])]"
   ]
  },
  {
   "cell_type": "code",
   "execution_count": 61,
   "metadata": {},
   "outputs": [
    {
     "data": {
      "text/plain": [
       "YHR136C    6.161845\n",
       "YML123C    5.337337\n",
       "dtype: float64"
      ]
     },
     "execution_count": 61,
     "metadata": {},
     "output_type": "execute_result"
    }
   ],
   "source": [
    "np.log2(my_genes[exp].mean(axis=1) / my_genes[cont].mean(axis=1))"
   ]
  },
  {
   "cell_type": "code",
   "execution_count": 63,
   "metadata": {},
   "outputs": [
    {
     "data": {
      "text/html": [
       "<div>\n",
       "<style scoped>\n",
       "    .dataframe tbody tr th:only-of-type {\n",
       "        vertical-align: middle;\n",
       "    }\n",
       "\n",
       "    .dataframe tbody tr th {\n",
       "        vertical-align: top;\n",
       "    }\n",
       "\n",
       "    .dataframe thead th {\n",
       "        text-align: right;\n",
       "    }\n",
       "</style>\n",
       "<table border=\"1\" class=\"dataframe\">\n",
       "  <thead>\n",
       "    <tr style=\"text-align: right;\">\n",
       "      <th></th>\n",
       "      <th>18607X7</th>\n",
       "      <th>18607X8</th>\n",
       "      <th>18607X9</th>\n",
       "      <th>18607X1</th>\n",
       "      <th>18607X2</th>\n",
       "      <th>18607X3</th>\n",
       "    </tr>\n",
       "  </thead>\n",
       "  <tbody>\n",
       "    <tr>\n",
       "      <th>YHR136C</th>\n",
       "      <td>291.516283</td>\n",
       "      <td>232.861073</td>\n",
       "      <td>240.604052</td>\n",
       "      <td>4.895021</td>\n",
       "      <td>3.07784</td>\n",
       "      <td>2.711556</td>\n",
       "    </tr>\n",
       "    <tr>\n",
       "      <th>YML123C</th>\n",
       "      <td>1495.444526</td>\n",
       "      <td>1228.323113</td>\n",
       "      <td>1732.577900</td>\n",
       "      <td>38.010203</td>\n",
       "      <td>35.43438</td>\n",
       "      <td>36.780441</td>\n",
       "    </tr>\n",
       "  </tbody>\n",
       "</table>\n",
       "</div>"
      ],
      "text/plain": [
       "             18607X7      18607X8      18607X9    18607X1   18607X2    18607X3\n",
       "YHR136C   291.516283   232.861073   240.604052   4.895021   3.07784   2.711556\n",
       "YML123C  1495.444526  1228.323113  1732.577900  38.010203  35.43438  36.780441"
      ]
     },
     "execution_count": 63,
     "metadata": {},
     "output_type": "execute_result"
    }
   ],
   "source": [
    "my_genes[exp + cont]"
   ]
  },
  {
   "cell_type": "code",
   "execution_count": null,
   "metadata": {},
   "outputs": [],
   "source": []
  }
 ],
 "metadata": {
  "kernelspec": {
   "display_name": "Python 3 (ipykernel)",
   "language": "python",
   "name": "python3"
  },
  "language_info": {
   "codemirror_mode": {
    "name": "ipython",
    "version": 3
   },
   "file_extension": ".py",
   "mimetype": "text/x-python",
   "name": "python",
   "nbconvert_exporter": "python",
   "pygments_lexer": "ipython3",
   "version": "3.8.10"
  }
 },
 "nbformat": 4,
 "nbformat_minor": 4
}
